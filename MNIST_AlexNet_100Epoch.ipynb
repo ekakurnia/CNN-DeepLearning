{
  "nbformat": 4,
  "nbformat_minor": 0,
  "metadata": {
    "colab": {
      "name": "MNIST_AlexNet_100Epoch.ipynb",
      "provenance": [],
      "collapsed_sections": [],
      "authorship_tag": "ABX9TyNw2IFpfj9IxGPEVhY+rgy5",
      "include_colab_link": true
    },
    "kernelspec": {
      "name": "python3",
      "display_name": "Python 3"
    },
    "accelerator": "GPU"
  },
  "cells": [
    {
      "cell_type": "markdown",
      "metadata": {
        "id": "view-in-github",
        "colab_type": "text"
      },
      "source": [
        "<a href=\"https://colab.research.google.com/github/ekakurnia/CNN-DeepLearning/blob/master/MNIST_AlexNet_100Epoch.ipynb\" target=\"_parent\"><img src=\"https://colab.research.google.com/assets/colab-badge.svg\" alt=\"Open In Colab\"/></a>"
      ]
    },
    {
      "cell_type": "code",
      "metadata": {
        "id": "2pgnklBBas7O",
        "colab_type": "code",
        "outputId": "ba007a41-c025-4993-9987-ef9809d44831",
        "colab": {
          "base_uri": "https://localhost:8080/",
          "height": 80
        }
      },
      "source": [
        "import matplotlib.pyplot as plt\n",
        "import tensorflow as tf\n",
        "import numpy as np\n",
        "import keras\n",
        "\n",
        "from keras.layers import Dense, Activation, Dropout, Flatten,\\\n",
        " Conv2D, MaxPooling2D\n",
        "from keras.datasets import mnist\n",
        "from keras.models import Sequential\n",
        "from keras.layers import Dense, Dropout, Activation, Flatten\n",
        "from keras.optimizers import Adam\n",
        "from keras.layers.normalization import BatchNormalization\n",
        "from keras.utils import np_utils\n",
        "from keras.layers import Conv2D, MaxPooling2D, ZeroPadding2D, GlobalAveragePooling2D\n",
        "from keras.layers.advanced_activations import LeakyReLU \n",
        "from keras.preprocessing.image import ImageDataGenerator\n"
      ],
      "execution_count": 0,
      "outputs": [
        {
          "output_type": "display_data",
          "data": {
            "text/html": [
              "<p style=\"color: red;\">\n",
              "The default version of TensorFlow in Colab will soon switch to TensorFlow 2.x.<br>\n",
              "We recommend you <a href=\"https://www.tensorflow.org/guide/migrate\" target=\"_blank\">upgrade</a> now \n",
              "or ensure your notebook will continue to use TensorFlow 1.x via the <code>%tensorflow_version 1.x</code> magic:\n",
              "<a href=\"https://colab.research.google.com/notebooks/tensorflow_version.ipynb\" target=\"_blank\">more info</a>.</p>\n"
            ],
            "text/plain": [
              "<IPython.core.display.HTML object>"
            ]
          },
          "metadata": {
            "tags": []
          }
        },
        {
          "output_type": "stream",
          "text": [
            "Using TensorFlow backend.\n"
          ],
          "name": "stderr"
        }
      ]
    },
    {
      "cell_type": "code",
      "metadata": {
        "id": "8hpaXnpNayMJ",
        "colab_type": "code",
        "colab": {}
      },
      "source": [
        "mnist = tf.keras.datasets.mnist\n",
        "(x_train, y_train), (x_test, y_test) = mnist.load_data()\n",
        "\n",
        "rows, cols = 28, 28\n",
        "\n",
        "x_train = x_train.reshape(x_train.shape[0], rows, cols, 1)\n",
        "x_test = x_test.reshape(x_test.shape[0], rows, cols, 1)\n",
        "\n",
        "input_shape = (rows, cols, 1)\n",
        "\n",
        "# convert to float and normalize\n",
        "x_train = x_train.astype('float32')\n",
        "x_test = x_test.astype('float32')\n",
        "x_train = x_train / 255.0\n",
        "x_test = x_test / 255.0\n",
        "\n",
        "# one-hot encode the labels\n",
        "y_train = tf.keras.utils.to_categorical(y_train, 10)\n",
        "y_test = tf.keras.utils.to_categorical(y_test, 10)"
      ],
      "execution_count": 0,
      "outputs": []
    },
    {
      "cell_type": "code",
      "metadata": {
        "id": "gatkv8WWaytF",
        "colab_type": "code",
        "outputId": "5636d330-b36a-4534-ef50-64b692f140a3",
        "colab": {
          "base_uri": "https://localhost:8080/",
          "height": 496
        }
      },
      "source": [
        "model = Sequential()\n",
        "\n",
        "model.add(Conv2D(32, (3, 3), input_shape=(28,28,1)))\n",
        "model.add(BatchNormalization(axis=-1))\n",
        "model.add(Activation('relu'))\n",
        "model.add(Conv2D(32, (3, 3)))\n",
        "model.add(BatchNormalization(axis=-1))\n",
        "model.add(Activation('relu'))\n",
        "model.add(MaxPooling2D(pool_size=(2,2)))\n",
        "\n",
        "model.add(Conv2D(64,(3, 3)))\n",
        "model.add(BatchNormalization(axis=-1))\n",
        "model.add(Activation('relu'))\n",
        "model.add(Conv2D(64, (3, 3)))\n",
        "model.add(BatchNormalization(axis=-1))\n",
        "model.add(Activation('relu'))\n",
        "model.add(MaxPooling2D(pool_size=(2,2)))\n",
        "\n",
        "model.add(Flatten())\n",
        "\n",
        "# Fully connected layer\n",
        "model.add(Dense(512))\n",
        "model.add(BatchNormalization())\n",
        "model.add(Activation('relu'))\n",
        "model.add(Dropout(0.2))\n",
        "model.add(Dense(10))\n",
        "\n",
        "model.add(Activation('softmax'))"
      ],
      "execution_count": 0,
      "outputs": [
        {
          "output_type": "stream",
          "text": [
            "WARNING:tensorflow:From /usr/local/lib/python3.6/dist-packages/keras/backend/tensorflow_backend.py:66: The name tf.get_default_graph is deprecated. Please use tf.compat.v1.get_default_graph instead.\n",
            "\n",
            "WARNING:tensorflow:From /usr/local/lib/python3.6/dist-packages/keras/backend/tensorflow_backend.py:541: The name tf.placeholder is deprecated. Please use tf.compat.v1.placeholder instead.\n",
            "\n",
            "WARNING:tensorflow:From /usr/local/lib/python3.6/dist-packages/keras/backend/tensorflow_backend.py:4432: The name tf.random_uniform is deprecated. Please use tf.random.uniform instead.\n",
            "\n",
            "WARNING:tensorflow:From /usr/local/lib/python3.6/dist-packages/keras/backend/tensorflow_backend.py:190: The name tf.get_default_session is deprecated. Please use tf.compat.v1.get_default_session instead.\n",
            "\n",
            "WARNING:tensorflow:From /usr/local/lib/python3.6/dist-packages/keras/backend/tensorflow_backend.py:197: The name tf.ConfigProto is deprecated. Please use tf.compat.v1.ConfigProto instead.\n",
            "\n",
            "WARNING:tensorflow:From /usr/local/lib/python3.6/dist-packages/keras/backend/tensorflow_backend.py:203: The name tf.Session is deprecated. Please use tf.compat.v1.Session instead.\n",
            "\n",
            "WARNING:tensorflow:From /usr/local/lib/python3.6/dist-packages/keras/backend/tensorflow_backend.py:207: The name tf.global_variables is deprecated. Please use tf.compat.v1.global_variables instead.\n",
            "\n",
            "WARNING:tensorflow:From /usr/local/lib/python3.6/dist-packages/keras/backend/tensorflow_backend.py:216: The name tf.is_variable_initialized is deprecated. Please use tf.compat.v1.is_variable_initialized instead.\n",
            "\n",
            "WARNING:tensorflow:From /usr/local/lib/python3.6/dist-packages/keras/backend/tensorflow_backend.py:223: The name tf.variables_initializer is deprecated. Please use tf.compat.v1.variables_initializer instead.\n",
            "\n",
            "WARNING:tensorflow:From /usr/local/lib/python3.6/dist-packages/keras/backend/tensorflow_backend.py:2041: The name tf.nn.fused_batch_norm is deprecated. Please use tf.compat.v1.nn.fused_batch_norm instead.\n",
            "\n",
            "WARNING:tensorflow:From /usr/local/lib/python3.6/dist-packages/keras/backend/tensorflow_backend.py:148: The name tf.placeholder_with_default is deprecated. Please use tf.compat.v1.placeholder_with_default instead.\n",
            "\n",
            "WARNING:tensorflow:From /usr/local/lib/python3.6/dist-packages/keras/backend/tensorflow_backend.py:4267: The name tf.nn.max_pool is deprecated. Please use tf.nn.max_pool2d instead.\n",
            "\n",
            "WARNING:tensorflow:From /usr/local/lib/python3.6/dist-packages/keras/backend/tensorflow_backend.py:3733: calling dropout (from tensorflow.python.ops.nn_ops) with keep_prob is deprecated and will be removed in a future version.\n",
            "Instructions for updating:\n",
            "Please use `rate` instead of `keep_prob`. Rate should be set to `rate = 1 - keep_prob`.\n"
          ],
          "name": "stdout"
        }
      ]
    },
    {
      "cell_type": "code",
      "metadata": {
        "id": "3XqIuQEvazHm",
        "colab_type": "code",
        "outputId": "ddc4323c-550b-4123-94ab-85456d4567a9",
        "colab": {
          "base_uri": "https://localhost:8080/",
          "height": 105
        }
      },
      "source": [
        "  model.compile(loss='categorical_crossentropy', optimizer='adam',\\\n",
        "  metrics=['accuracy'])"
      ],
      "execution_count": 0,
      "outputs": [
        {
          "output_type": "stream",
          "text": [
            "WARNING:tensorflow:From /usr/local/lib/python3.6/dist-packages/keras/optimizers.py:793: The name tf.train.Optimizer is deprecated. Please use tf.compat.v1.train.Optimizer instead.\n",
            "\n",
            "WARNING:tensorflow:From /usr/local/lib/python3.6/dist-packages/keras/backend/tensorflow_backend.py:3576: The name tf.log is deprecated. Please use tf.math.log instead.\n",
            "\n"
          ],
          "name": "stdout"
        }
      ]
    },
    {
      "cell_type": "code",
      "metadata": {
        "id": "pV45uMPcayqS",
        "colab_type": "code",
        "colab": {}
      },
      "source": [
        "gen = ImageDataGenerator(rotation_range=8, width_shift_range=0.08, shear_range=0.3,\n",
        "                         height_shift_range=0.08, zoom_range=0.08)\n",
        "\n",
        "test_gen = ImageDataGenerator()"
      ],
      "execution_count": 0,
      "outputs": []
    },
    {
      "cell_type": "code",
      "metadata": {
        "id": "1BpwC2xaaynF",
        "colab_type": "code",
        "colab": {}
      },
      "source": [
        "train_generator = gen.flow(x_train, y_train, batch_size=64)\n",
        "test_generator = test_gen.flow(x_test, y_test, batch_size=64)"
      ],
      "execution_count": 0,
      "outputs": []
    },
    {
      "cell_type": "code",
      "metadata": {
        "id": "xWFi4VwUayjH",
        "colab_type": "code",
        "outputId": "dfe19fc9-839d-4977-c6c9-22e295f0d713",
        "colab": {
          "base_uri": "https://localhost:8080/",
          "height": 1000
        }
      },
      "source": [
        "model.fit_generator(train_generator, steps_per_epoch=60000//64, epochs=100, \n",
        "                    validation_data=test_generator, validation_steps=10000//64)"
      ],
      "execution_count": 0,
      "outputs": [
        {
          "output_type": "stream",
          "text": [
            "WARNING:tensorflow:From /usr/local/lib/python3.6/dist-packages/tensorflow_core/python/ops/math_grad.py:1424: where (from tensorflow.python.ops.array_ops) is deprecated and will be removed in a future version.\n",
            "Instructions for updating:\n",
            "Use tf.where in 2.0, which has the same broadcast rule as np.where\n",
            "WARNING:tensorflow:From /usr/local/lib/python3.6/dist-packages/keras/backend/tensorflow_backend.py:1033: The name tf.assign_add is deprecated. Please use tf.compat.v1.assign_add instead.\n",
            "\n",
            "WARNING:tensorflow:From /usr/local/lib/python3.6/dist-packages/keras/backend/tensorflow_backend.py:1020: The name tf.assign is deprecated. Please use tf.compat.v1.assign instead.\n",
            "\n",
            "Epoch 1/100\n",
            "937/937 [==============================] - 36s 38ms/step - loss: 0.1229 - acc: 0.9611 - val_loss: 0.0348 - val_acc: 0.9890\n",
            "Epoch 2/100\n",
            "937/937 [==============================] - 34s 36ms/step - loss: 0.0518 - acc: 0.9840 - val_loss: 0.0324 - val_acc: 0.9888\n",
            "Epoch 3/100\n",
            "937/937 [==============================] - 34s 36ms/step - loss: 0.0423 - acc: 0.9866 - val_loss: 0.0279 - val_acc: 0.9910\n",
            "Epoch 4/100\n",
            "937/937 [==============================] - 34s 36ms/step - loss: 0.0392 - acc: 0.9882 - val_loss: 0.0180 - val_acc: 0.9948\n",
            "Epoch 5/100\n",
            "937/937 [==============================] - 34s 36ms/step - loss: 0.0330 - acc: 0.9897 - val_loss: 0.0370 - val_acc: 0.9880\n",
            "Epoch 6/100\n",
            "937/937 [==============================] - 34s 36ms/step - loss: 0.0307 - acc: 0.9906 - val_loss: 0.0274 - val_acc: 0.9921\n",
            "Epoch 7/100\n",
            "937/937 [==============================] - 34s 36ms/step - loss: 0.0293 - acc: 0.9907 - val_loss: 0.0228 - val_acc: 0.9925\n",
            "Epoch 8/100\n",
            "937/937 [==============================] - 34s 36ms/step - loss: 0.0271 - acc: 0.9917 - val_loss: 0.0225 - val_acc: 0.9928\n",
            "Epoch 9/100\n",
            "937/937 [==============================] - 34s 36ms/step - loss: 0.0250 - acc: 0.9926 - val_loss: 0.0146 - val_acc: 0.9950\n",
            "Epoch 10/100\n",
            "937/937 [==============================] - 34s 36ms/step - loss: 0.0243 - acc: 0.9923 - val_loss: 0.0242 - val_acc: 0.9918\n",
            "Epoch 11/100\n",
            "937/937 [==============================] - 34s 36ms/step - loss: 0.0226 - acc: 0.9926 - val_loss: 0.0243 - val_acc: 0.9919\n",
            "Epoch 12/100\n",
            "937/937 [==============================] - 34s 36ms/step - loss: 0.0212 - acc: 0.9935 - val_loss: 0.0275 - val_acc: 0.9921\n",
            "Epoch 13/100\n",
            "937/937 [==============================] - 34s 36ms/step - loss: 0.0202 - acc: 0.9938 - val_loss: 0.0160 - val_acc: 0.9957\n",
            "Epoch 14/100\n",
            "937/937 [==============================] - 34s 36ms/step - loss: 0.0183 - acc: 0.9940 - val_loss: 0.0177 - val_acc: 0.9944\n",
            "Epoch 15/100\n",
            "937/937 [==============================] - 34s 36ms/step - loss: 0.0195 - acc: 0.9940 - val_loss: 0.0232 - val_acc: 0.9932\n",
            "Epoch 16/100\n",
            "937/937 [==============================] - 34s 36ms/step - loss: 0.0173 - acc: 0.9945 - val_loss: 0.0114 - val_acc: 0.9967\n",
            "Epoch 17/100\n",
            "937/937 [==============================] - 34s 36ms/step - loss: 0.0149 - acc: 0.9950 - val_loss: 0.0233 - val_acc: 0.9932\n",
            "Epoch 18/100\n",
            "937/937 [==============================] - 34s 36ms/step - loss: 0.0167 - acc: 0.9948 - val_loss: 0.0161 - val_acc: 0.9952\n",
            "Epoch 19/100\n",
            "937/937 [==============================] - 34s 36ms/step - loss: 0.0150 - acc: 0.9951 - val_loss: 0.0164 - val_acc: 0.9945\n",
            "Epoch 20/100\n",
            "937/937 [==============================] - 34s 36ms/step - loss: 0.0160 - acc: 0.9949 - val_loss: 0.0138 - val_acc: 0.9959\n",
            "Epoch 21/100\n",
            "937/937 [==============================] - 34s 36ms/step - loss: 0.0131 - acc: 0.9957 - val_loss: 0.0193 - val_acc: 0.9948\n",
            "Epoch 22/100\n",
            "937/937 [==============================] - 34s 36ms/step - loss: 0.0157 - acc: 0.9949 - val_loss: 0.0155 - val_acc: 0.9951\n",
            "Epoch 23/100\n",
            "937/937 [==============================] - 34s 36ms/step - loss: 0.0132 - acc: 0.9958 - val_loss: 0.0230 - val_acc: 0.9925\n",
            "Epoch 24/100\n",
            "937/937 [==============================] - 34s 36ms/step - loss: 0.0147 - acc: 0.9950 - val_loss: 0.0133 - val_acc: 0.9963\n",
            "Epoch 25/100\n",
            "937/937 [==============================] - 34s 36ms/step - loss: 0.0141 - acc: 0.9956 - val_loss: 0.0151 - val_acc: 0.9953\n",
            "Epoch 26/100\n",
            "937/937 [==============================] - 34s 36ms/step - loss: 0.0125 - acc: 0.9959 - val_loss: 0.0142 - val_acc: 0.9960\n",
            "Epoch 27/100\n",
            "937/937 [==============================] - 34s 36ms/step - loss: 0.0127 - acc: 0.9957 - val_loss: 0.0136 - val_acc: 0.9969\n",
            "Epoch 28/100\n",
            "937/937 [==============================] - 34s 36ms/step - loss: 0.0114 - acc: 0.9965 - val_loss: 0.0131 - val_acc: 0.9954\n",
            "Epoch 29/100\n",
            "937/937 [==============================] - 33s 36ms/step - loss: 0.0109 - acc: 0.9962 - val_loss: 0.0169 - val_acc: 0.9947\n",
            "Epoch 30/100\n",
            "937/937 [==============================] - 33s 35ms/step - loss: 0.0112 - acc: 0.9964 - val_loss: 0.0228 - val_acc: 0.9937\n",
            "Epoch 31/100\n",
            "937/937 [==============================] - 34s 36ms/step - loss: 0.0106 - acc: 0.9964 - val_loss: 0.0133 - val_acc: 0.9964\n",
            "Epoch 32/100\n",
            "937/937 [==============================] - 33s 36ms/step - loss: 0.0103 - acc: 0.9968 - val_loss: 0.0150 - val_acc: 0.9954\n",
            "Epoch 33/100\n",
            "937/937 [==============================] - 34s 36ms/step - loss: 0.0107 - acc: 0.9964 - val_loss: 0.0162 - val_acc: 0.9953\n",
            "Epoch 34/100\n",
            "937/937 [==============================] - 34s 36ms/step - loss: 0.0098 - acc: 0.9968 - val_loss: 0.0240 - val_acc: 0.9939\n",
            "Epoch 35/100\n",
            "937/937 [==============================] - 34s 36ms/step - loss: 0.0100 - acc: 0.9967 - val_loss: 0.0222 - val_acc: 0.9930\n",
            "Epoch 36/100\n",
            "937/937 [==============================] - 34s 36ms/step - loss: 0.0099 - acc: 0.9968 - val_loss: 0.0171 - val_acc: 0.9962\n",
            "Epoch 37/100\n",
            "937/937 [==============================] - 34s 36ms/step - loss: 0.0100 - acc: 0.9969 - val_loss: 0.0164 - val_acc: 0.9950\n",
            "Epoch 38/100\n",
            "937/937 [==============================] - 34s 36ms/step - loss: 0.0092 - acc: 0.9971 - val_loss: 0.0144 - val_acc: 0.9956\n",
            "Epoch 39/100\n",
            "937/937 [==============================] - 34s 36ms/step - loss: 0.0090 - acc: 0.9970 - val_loss: 0.0159 - val_acc: 0.9957\n",
            "Epoch 40/100\n",
            "937/937 [==============================] - 34s 36ms/step - loss: 0.0103 - acc: 0.9965 - val_loss: 0.0182 - val_acc: 0.9948\n",
            "Epoch 41/100\n",
            "937/937 [==============================] - 34s 36ms/step - loss: 0.0080 - acc: 0.9972 - val_loss: 0.0187 - val_acc: 0.9953\n",
            "Epoch 42/100\n",
            "937/937 [==============================] - 34s 36ms/step - loss: 0.0081 - acc: 0.9971 - val_loss: 0.0190 - val_acc: 0.9940\n",
            "Epoch 43/100\n",
            "937/937 [==============================] - 34s 36ms/step - loss: 0.0082 - acc: 0.9972 - val_loss: 0.0179 - val_acc: 0.9950\n",
            "Epoch 44/100\n",
            "937/937 [==============================] - 34s 36ms/step - loss: 0.0090 - acc: 0.9970 - val_loss: 0.0179 - val_acc: 0.9956\n",
            "Epoch 45/100\n",
            "937/937 [==============================] - 34s 36ms/step - loss: 0.0074 - acc: 0.9974 - val_loss: 0.0141 - val_acc: 0.9958\n",
            "Epoch 46/100\n",
            "937/937 [==============================] - 34s 36ms/step - loss: 0.0079 - acc: 0.9974 - val_loss: 0.0171 - val_acc: 0.9950\n",
            "Epoch 47/100\n",
            "937/937 [==============================] - 34s 36ms/step - loss: 0.0074 - acc: 0.9979 - val_loss: 0.0124 - val_acc: 0.9960\n",
            "Epoch 48/100\n",
            "937/937 [==============================] - 34s 36ms/step - loss: 0.0075 - acc: 0.9974 - val_loss: 0.0185 - val_acc: 0.9943\n",
            "Epoch 49/100\n",
            "937/937 [==============================] - 34s 36ms/step - loss: 0.0078 - acc: 0.9975 - val_loss: 0.0176 - val_acc: 0.9948\n",
            "Epoch 50/100\n",
            "937/937 [==============================] - 34s 36ms/step - loss: 0.0082 - acc: 0.9973 - val_loss: 0.0182 - val_acc: 0.9948\n",
            "Epoch 51/100\n",
            "937/937 [==============================] - 34s 36ms/step - loss: 0.0062 - acc: 0.9980 - val_loss: 0.0233 - val_acc: 0.9940\n",
            "Epoch 52/100\n",
            "937/937 [==============================] - 34s 36ms/step - loss: 0.0083 - acc: 0.9974 - val_loss: 0.0152 - val_acc: 0.9951\n",
            "Epoch 53/100\n",
            "937/937 [==============================] - 34s 36ms/step - loss: 0.0078 - acc: 0.9974 - val_loss: 0.0161 - val_acc: 0.9958\n",
            "Epoch 54/100\n",
            "937/937 [==============================] - 33s 36ms/step - loss: 0.0081 - acc: 0.9974 - val_loss: 0.0109 - val_acc: 0.9963\n",
            "Epoch 55/100\n",
            "937/937 [==============================] - 33s 36ms/step - loss: 0.0069 - acc: 0.9976 - val_loss: 0.0209 - val_acc: 0.9942\n",
            "Epoch 56/100\n",
            "937/937 [==============================] - 33s 36ms/step - loss: 0.0060 - acc: 0.9980 - val_loss: 0.0128 - val_acc: 0.9960\n",
            "Epoch 57/100\n",
            "937/937 [==============================] - 33s 36ms/step - loss: 0.0055 - acc: 0.9985 - val_loss: 0.0180 - val_acc: 0.9949\n",
            "Epoch 58/100\n",
            "937/937 [==============================] - 34s 36ms/step - loss: 0.0073 - acc: 0.9977 - val_loss: 0.0140 - val_acc: 0.9957\n",
            "Epoch 59/100\n",
            "937/937 [==============================] - 34s 36ms/step - loss: 0.0072 - acc: 0.9976 - val_loss: 0.0172 - val_acc: 0.9959\n",
            "Epoch 60/100\n",
            "937/937 [==============================] - 34s 36ms/step - loss: 0.0061 - acc: 0.9978 - val_loss: 0.0265 - val_acc: 0.9941\n",
            "Epoch 61/100\n",
            "937/937 [==============================] - 34s 36ms/step - loss: 0.0070 - acc: 0.9977 - val_loss: 0.0186 - val_acc: 0.9951\n",
            "Epoch 62/100\n",
            "937/937 [==============================] - 34s 36ms/step - loss: 0.0070 - acc: 0.9976 - val_loss: 0.0164 - val_acc: 0.9950\n",
            "Epoch 63/100\n",
            "937/937 [==============================] - 34s 36ms/step - loss: 0.0072 - acc: 0.9976 - val_loss: 0.0136 - val_acc: 0.9965\n",
            "Epoch 64/100\n",
            "937/937 [==============================] - 34s 36ms/step - loss: 0.0068 - acc: 0.9977 - val_loss: 0.0149 - val_acc: 0.9972\n",
            "Epoch 65/100\n",
            "937/937 [==============================] - 34s 36ms/step - loss: 0.0052 - acc: 0.9983 - val_loss: 0.0155 - val_acc: 0.9961\n",
            "Epoch 66/100\n",
            "937/937 [==============================] - 34s 36ms/step - loss: 0.0067 - acc: 0.9978 - val_loss: 0.0134 - val_acc: 0.9953\n",
            "Epoch 67/100\n",
            "937/937 [==============================] - 34s 36ms/step - loss: 0.0056 - acc: 0.9980 - val_loss: 0.0230 - val_acc: 0.9947\n",
            "Epoch 68/100\n",
            "937/937 [==============================] - 34s 36ms/step - loss: 0.0056 - acc: 0.9980 - val_loss: 0.0170 - val_acc: 0.9951\n",
            "Epoch 69/100\n",
            "937/937 [==============================] - 34s 36ms/step - loss: 0.0059 - acc: 0.9978 - val_loss: 0.0128 - val_acc: 0.9960\n",
            "Epoch 70/100\n",
            "937/937 [==============================] - 34s 36ms/step - loss: 0.0053 - acc: 0.9982 - val_loss: 0.0168 - val_acc: 0.9956\n",
            "Epoch 71/100\n",
            "937/937 [==============================] - 34s 36ms/step - loss: 0.0058 - acc: 0.9982 - val_loss: 0.0206 - val_acc: 0.9949\n",
            "Epoch 72/100\n",
            "937/937 [==============================] - 34s 36ms/step - loss: 0.0066 - acc: 0.9980 - val_loss: 0.0137 - val_acc: 0.9965\n",
            "Epoch 73/100\n",
            "937/937 [==============================] - 34s 36ms/step - loss: 0.0064 - acc: 0.9981 - val_loss: 0.0170 - val_acc: 0.9957\n",
            "Epoch 74/100\n",
            "937/937 [==============================] - 34s 36ms/step - loss: 0.0055 - acc: 0.9982 - val_loss: 0.0158 - val_acc: 0.9964\n",
            "Epoch 75/100\n",
            "937/937 [==============================] - 34s 36ms/step - loss: 0.0059 - acc: 0.9980 - val_loss: 0.0217 - val_acc: 0.9945\n",
            "Epoch 76/100\n",
            "937/937 [==============================] - 34s 36ms/step - loss: 0.0060 - acc: 0.9982 - val_loss: 0.0166 - val_acc: 0.9948\n",
            "Epoch 77/100\n",
            "937/937 [==============================] - 34s 36ms/step - loss: 0.0060 - acc: 0.9981 - val_loss: 0.0185 - val_acc: 0.9958\n",
            "Epoch 78/100\n",
            "937/937 [==============================] - 34s 36ms/step - loss: 0.0052 - acc: 0.9983 - val_loss: 0.0193 - val_acc: 0.9948\n",
            "Epoch 79/100\n",
            "937/937 [==============================] - 34s 36ms/step - loss: 0.0055 - acc: 0.9982 - val_loss: 0.0179 - val_acc: 0.9951\n",
            "Epoch 80/100\n",
            "937/937 [==============================] - 34s 36ms/step - loss: 0.0055 - acc: 0.9983 - val_loss: 0.0131 - val_acc: 0.9965\n",
            "Epoch 81/100\n",
            "937/937 [==============================] - 34s 36ms/step - loss: 0.0051 - acc: 0.9984 - val_loss: 0.0202 - val_acc: 0.9944\n",
            "Epoch 82/100\n",
            "937/937 [==============================] - 34s 36ms/step - loss: 0.0055 - acc: 0.9982 - val_loss: 0.0186 - val_acc: 0.9941\n",
            "Epoch 83/100\n",
            "937/937 [==============================] - 34s 36ms/step - loss: 0.0050 - acc: 0.9986 - val_loss: 0.0088 - val_acc: 0.9973\n",
            "Epoch 84/100\n",
            "937/937 [==============================] - 34s 36ms/step - loss: 0.0045 - acc: 0.9985 - val_loss: 0.0139 - val_acc: 0.9956\n",
            "Epoch 85/100\n",
            "937/937 [==============================] - 34s 36ms/step - loss: 0.0056 - acc: 0.9983 - val_loss: 0.0248 - val_acc: 0.9947\n",
            "Epoch 86/100\n",
            "937/937 [==============================] - 33s 36ms/step - loss: 0.0057 - acc: 0.9983 - val_loss: 0.0132 - val_acc: 0.9970\n",
            "Epoch 87/100\n",
            "937/937 [==============================] - 34s 36ms/step - loss: 0.0053 - acc: 0.9983 - val_loss: 0.0093 - val_acc: 0.9970\n",
            "Epoch 88/100\n",
            "937/937 [==============================] - 34s 36ms/step - loss: 0.0049 - acc: 0.9985 - val_loss: 0.0136 - val_acc: 0.9964\n",
            "Epoch 89/100\n",
            "937/937 [==============================] - 34s 36ms/step - loss: 0.0045 - acc: 0.9985 - val_loss: 0.0173 - val_acc: 0.9958\n",
            "Epoch 90/100\n",
            "937/937 [==============================] - 34s 36ms/step - loss: 0.0051 - acc: 0.9984 - val_loss: 0.0153 - val_acc: 0.9966\n",
            "Epoch 91/100\n",
            "937/937 [==============================] - 33s 36ms/step - loss: 0.0051 - acc: 0.9984 - val_loss: 0.0218 - val_acc: 0.9948\n",
            "Epoch 92/100\n",
            "937/937 [==============================] - 33s 36ms/step - loss: 0.0056 - acc: 0.9983 - val_loss: 0.0188 - val_acc: 0.9958\n",
            "Epoch 93/100\n",
            "937/937 [==============================] - 34s 36ms/step - loss: 0.0051 - acc: 0.9983 - val_loss: 0.0170 - val_acc: 0.9957\n",
            "Epoch 94/100\n",
            "937/937 [==============================] - 33s 36ms/step - loss: 0.0048 - acc: 0.9986 - val_loss: 0.0181 - val_acc: 0.9950\n",
            "Epoch 95/100\n",
            "937/937 [==============================] - 34s 36ms/step - loss: 0.0041 - acc: 0.9986 - val_loss: 0.0122 - val_acc: 0.9960\n",
            "Epoch 96/100\n",
            "937/937 [==============================] - 34s 36ms/step - loss: 0.0051 - acc: 0.9984 - val_loss: 0.0187 - val_acc: 0.9949\n",
            "Epoch 97/100\n",
            "937/937 [==============================] - 34s 36ms/step - loss: 0.0048 - acc: 0.9983 - val_loss: 0.0094 - val_acc: 0.9972\n",
            "Epoch 98/100\n",
            "937/937 [==============================] - 34s 36ms/step - loss: 0.0044 - acc: 0.9985 - val_loss: 0.0168 - val_acc: 0.9958\n",
            "Epoch 99/100\n",
            "937/937 [==============================] - 34s 36ms/step - loss: 0.0050 - acc: 0.9984 - val_loss: 0.0112 - val_acc: 0.9959\n",
            "Epoch 100/100\n",
            "937/937 [==============================] - 34s 36ms/step - loss: 0.0048 - acc: 0.9985 - val_loss: 0.0155 - val_acc: 0.9954\n"
          ],
          "name": "stdout"
        },
        {
          "output_type": "execute_result",
          "data": {
            "text/plain": [
              "<keras.callbacks.History at 0x7fd24061e2b0>"
            ]
          },
          "metadata": {
            "tags": []
          },
          "execution_count": 7
        }
      ]
    },
    {
      "cell_type": "code",
      "metadata": {
        "id": "ugg4-sXvaycu",
        "colab_type": "code",
        "outputId": "3ebd2235-7f52-4bdc-f355-5b3c985cb9c1",
        "colab": {
          "base_uri": "https://localhost:8080/",
          "height": 51
        }
      },
      "source": [
        "loss, acc = model.evaluate(x_test, y_test)\n",
        "print('ACCURACY: ', acc)"
      ],
      "execution_count": 0,
      "outputs": [
        {
          "output_type": "stream",
          "text": [
            "10000/10000 [==============================] - 1s 131us/step\n",
            "ACCURACY:  0.9956\n"
          ],
          "name": "stdout"
        }
      ]
    }
  ]
}