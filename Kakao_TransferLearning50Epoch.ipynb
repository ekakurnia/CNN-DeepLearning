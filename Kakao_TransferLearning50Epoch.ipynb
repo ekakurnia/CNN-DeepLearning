{
  "nbformat": 4,
  "nbformat_minor": 0,
  "metadata": {
    "colab": {
      "name": "Kakao_TransferLearning50Epoch.ipynb",
      "provenance": [],
      "collapsed_sections": [],
      "authorship_tag": "ABX9TyMlrnmFtA05UNJoJgPPfT3X",
      "include_colab_link": true
    },
    "kernelspec": {
      "name": "python3",
      "display_name": "Python 3"
    },
    "accelerator": "GPU"
  },
  "cells": [
    {
      "cell_type": "markdown",
      "metadata": {
        "id": "view-in-github",
        "colab_type": "text"
      },
      "source": [
        "<a href=\"https://colab.research.google.com/github/ekakurnia/CNN-DeepLearning/blob/master/Kakao_TransferLearning50Epoch.ipynb\" target=\"_parent\"><img src=\"https://colab.research.google.com/assets/colab-badge.svg\" alt=\"Open In Colab\"/></a>"
      ]
    },
    {
      "cell_type": "code",
      "metadata": {
        "id": "espCcq9SfoXW",
        "colab_type": "code",
        "outputId": "a4df0d57-c7c0-4c5b-d212-93fdcf7db181",
        "colab": {
          "base_uri": "https://localhost:8080/",
          "height": 125
        }
      },
      "source": [
        "from google.colab import drive\n",
        "drive.mount('/content/drive')"
      ],
      "execution_count": 0,
      "outputs": [
        {
          "output_type": "stream",
          "text": [
            "Go to this URL in a browser: https://accounts.google.com/o/oauth2/auth?client_id=947318989803-6bn6qk8qdgf4n4g3pfee6491hc0brc4i.apps.googleusercontent.com&redirect_uri=urn%3aietf%3awg%3aoauth%3a2.0%3aoob&response_type=code&scope=email%20https%3a%2f%2fwww.googleapis.com%2fauth%2fdocs.test%20https%3a%2f%2fwww.googleapis.com%2fauth%2fdrive%20https%3a%2f%2fwww.googleapis.com%2fauth%2fdrive.photos.readonly%20https%3a%2f%2fwww.googleapis.com%2fauth%2fpeopleapi.readonly\n",
            "\n",
            "Enter your authorization code:\n",
            "··········\n",
            "Mounted at /content/drive\n"
          ],
          "name": "stdout"
        }
      ]
    },
    {
      "cell_type": "code",
      "metadata": {
        "id": "AqbtOF0ufq-Q",
        "colab_type": "code",
        "outputId": "ff7b22ff-54d0-44a6-9ce5-08468c0c06ee",
        "colab": {
          "base_uri": "https://localhost:8080/",
          "height": 34
        }
      },
      "source": [
        "%cd \"/content/drive/My Drive/Dataset Coklat\""
      ],
      "execution_count": 0,
      "outputs": [
        {
          "output_type": "stream",
          "text": [
            "/content/drive/My Drive/Dataset Coklat\n"
          ],
          "name": "stdout"
        }
      ]
    },
    {
      "cell_type": "code",
      "metadata": {
        "id": "XpcZgZiyfrJI",
        "colab_type": "code",
        "colab": {}
      },
      "source": [
        "%tensorflow_version 2.x"
      ],
      "execution_count": 0,
      "outputs": []
    },
    {
      "cell_type": "code",
      "metadata": {
        "id": "bOcK7BZMfrhl",
        "colab_type": "code",
        "colab": {}
      },
      "source": [
        "import numpy as np\n",
        "import pickle\n",
        "import cv2\n",
        "import keras\n",
        "\n",
        "from keras.applications.inception_resnet_v2 import InceptionResNetV2\n",
        "from keras.preprocessing import image\n",
        "from keras.layers import Conv2D, MaxPooling2D, GlobalAveragePooling2D\n",
        "from keras.layers import Flatten, Dense, Dropout\n",
        "from keras.models import Model\n",
        "from keras.layers import BatchNormalization\n",
        "\n",
        "from os import listdir\n",
        "from keras import backend as K\n",
        "from keras.layers import Input\n",
        "from keras.optimizers import Adam\n",
        "from keras.preprocessing.image import ImageDataGenerator\n",
        "from keras.preprocessing import image\n",
        "from keras.preprocessing.image import img_to_array\n",
        "from sklearn.preprocessing import MultiLabelBinarizer\n",
        "from sklearn.preprocessing import LabelBinarizer\n",
        "from sklearn.model_selection import train_test_split\n",
        "\n",
        "import matplotlib.pyplot as plt\n"
      ],
      "execution_count": 0,
      "outputs": []
    },
    {
      "cell_type": "code",
      "metadata": {
        "id": "gT0Na41tfr4k",
        "colab_type": "code",
        "colab": {}
      },
      "source": [
        "EPOCHS = 50\n",
        "INIT_LR = 1e-3\n",
        "BS = 4\n",
        "default_image_size = tuple((256, 256))\n",
        "image_size = 0\n",
        "directory_root = \"/content/drive/My Drive/Dataset Coklat\"\n",
        "width=256\n",
        "height=256\n",
        "depth=3"
      ],
      "execution_count": 0,
      "outputs": []
    },
    {
      "cell_type": "code",
      "metadata": {
        "id": "U49ZVpyifr1s",
        "colab_type": "code",
        "colab": {}
      },
      "source": [
        "def convert_image_to_array(image_dir):\n",
        "    try:\n",
        "        image = cv2.imread(image_dir)\n",
        "        if image is not None :\n",
        "            image = cv2.resize(image, default_image_size)   \n",
        "            return img_to_array(image)\n",
        "        else :\n",
        "            return np.array([])\n",
        "    except Exception as e:\n",
        "        print(f\"Error : {e}\")\n",
        "        return None"
      ],
      "execution_count": 0,
      "outputs": []
    },
    {
      "cell_type": "code",
      "metadata": {
        "id": "iXZQ3vXSfre2",
        "colab_type": "code",
        "outputId": "1217d9d6-be72-424f-f476-7326bb108e7e",
        "colab": {
          "base_uri": "https://localhost:8080/",
          "height": 158
        }
      },
      "source": [
        "image_list, label_list = [], []\n",
        "try:\n",
        "    print(\"[INFO] Loading images ...\")\n",
        "    root_dir = listdir(directory_root)\n",
        "    for directory in root_dir :\n",
        "        # remove .DS_Store from list\n",
        "        if directory == \".DS_Store\" :\n",
        "            root_dir.remove(directory)\n",
        "\n",
        "    for plant_folder in root_dir :\n",
        "        plant_disease_folder_list = listdir(f\"{directory_root}/{plant_folder}\")\n",
        "        \n",
        "        for disease_folder in plant_disease_folder_list :\n",
        "            # remove .DS_Store from list\n",
        "            if disease_folder == \".DS_Store\" :\n",
        "                plant_disease_folder_list.remove(disease_folder)\n",
        "\n",
        "        for plant_disease_folder in plant_disease_folder_list:\n",
        "            print(f\"[INFO] Processing {plant_disease_folder} ...\")\n",
        "            plant_disease_image_list = listdir(f\"{directory_root}/{plant_folder}/{plant_disease_folder}/\")\n",
        "                \n",
        "            for single_plant_disease_image in plant_disease_image_list :\n",
        "                if single_plant_disease_image == \".DS_Store\" :\n",
        "                    plant_disease_image_list.remove(single_plant_disease_image)\n",
        "\n",
        "            for image in plant_disease_image_list[:200]:\n",
        "                image_directory = f\"{directory_root}/{plant_folder}/{plant_disease_folder}/{image}\"\n",
        "                if image_directory.endswith(\".jpg\") == True or image_directory.endswith(\".JPG\"):\n",
        "                    image_list.append(convert_image_to_array(image_directory))\n",
        "                    label_list.append(plant_disease_folder)\n",
        "    %time print(\"[INFO] Image loading completed\")  \n",
        "except Exception as e:\n",
        "    print(f\"Error : {e}\")"
      ],
      "execution_count": 0,
      "outputs": [
        {
          "output_type": "stream",
          "text": [
            "[INFO] Loading images ...\n",
            "[INFO] Processing Unfermented_Cocoa ...\n",
            "[INFO] Processing Moldy_Cocoa ...\n",
            "[INFO] Processing Whole_Beans_Cocoa ...\n",
            "[INFO] Processing Bean_Fraction_Cocoa ...\n",
            "[INFO] Processing Fermented_Cocoa ...\n",
            "[INFO] Processing Broken_Beans_Cocoa ...\n",
            "Error : [Errno 20] Not a directory: '/content/drive/My Drive/Dataset Coklat/label_transform.pkl'\n"
          ],
          "name": "stdout"
        }
      ]
    },
    {
      "cell_type": "code",
      "metadata": {
        "id": "tzwKeo0kfrcf",
        "colab_type": "code",
        "outputId": "f7cd5329-66b5-400c-d741-26af5b454ffa",
        "colab": {
          "base_uri": "https://localhost:8080/",
          "height": 34
        }
      },
      "source": [
        "image_size = len(image_list)\n",
        "print(image_size)"
      ],
      "execution_count": 0,
      "outputs": [
        {
          "output_type": "stream",
          "text": [
            "614\n"
          ],
          "name": "stdout"
        }
      ]
    },
    {
      "cell_type": "code",
      "metadata": {
        "id": "KUHIKv5jfrZ6",
        "colab_type": "code",
        "colab": {}
      },
      "source": [
        "label_binarizer = LabelBinarizer()\n",
        "image_labels = label_binarizer.fit_transform(label_list)\n",
        "pickle.dump(label_binarizer,open('label_transform.pkl', 'wb'))\n",
        "n_classes = len(label_binarizer.classes_)"
      ],
      "execution_count": 0,
      "outputs": []
    },
    {
      "cell_type": "code",
      "metadata": {
        "id": "FuCIMaSzfrVv",
        "colab_type": "code",
        "outputId": "88e6d5f1-69a8-4097-e5dd-bf06393f42c3",
        "colab": {
          "base_uri": "https://localhost:8080/",
          "height": 52
        }
      },
      "source": [
        "print(label_binarizer.classes_)"
      ],
      "execution_count": 0,
      "outputs": [
        {
          "output_type": "stream",
          "text": [
            "['Bean_Fraction_Cocoa' 'Broken_Beans_Cocoa' 'Fermented_Cocoa'\n",
            " 'Moldy_Cocoa' 'Unfermented_Cocoa' 'Whole_Beans_Cocoa']\n"
          ],
          "name": "stdout"
        }
      ]
    },
    {
      "cell_type": "code",
      "metadata": {
        "id": "58fWPiCDfrSZ",
        "colab_type": "code",
        "colab": {}
      },
      "source": [
        "np_image_list = np.array(image_list, dtype=np.float16) / 225.0"
      ],
      "execution_count": 0,
      "outputs": []
    },
    {
      "cell_type": "code",
      "metadata": {
        "id": "ez8UZCmTfrOc",
        "colab_type": "code",
        "outputId": "2d9f520c-97f8-4e6f-f214-432476d2ef0f",
        "colab": {
          "base_uri": "https://localhost:8080/",
          "height": 34
        }
      },
      "source": [
        "print(\"[INFO] Spliting data to train, test, and validate\")\n",
        "x_train, x_test, y_train, y_test = train_test_split(np_image_list, image_labels, test_size=0.2, random_state = 42) "
      ],
      "execution_count": 0,
      "outputs": [
        {
          "output_type": "stream",
          "text": [
            "[INFO] Spliting data to train, test, and validate\n"
          ],
          "name": "stdout"
        }
      ]
    },
    {
      "cell_type": "code",
      "metadata": {
        "id": "FDLNJCydfq63",
        "colab_type": "code",
        "outputId": "df88f400-27ab-444c-bd19-c9a8bc593a63",
        "colab": {
          "base_uri": "https://localhost:8080/",
          "height": 52
        }
      },
      "source": [
        "import pandas as pd\n",
        "import numpy as np\n",
        "import os\n",
        "import keras\n",
        "import matplotlib.pyplot as plt\n",
        "from keras.layers import Dense,GlobalAveragePooling2D\n",
        "from keras.applications import MobileNet\n",
        "from keras.preprocessing import image\n",
        "from keras.applications.mobilenet import preprocess_input\n",
        "from keras.preprocessing.image import ImageDataGenerator\n",
        "from keras.models import Model\n",
        "from keras.optimizers import Adam\n",
        "from keras import layers\n",
        "from keras import models\n",
        "from keras.applications import InceptionResNetV2\n",
        "\n",
        "base_model = InceptionResNetV2(weights='imagenet',\n",
        "                               layers=keras.layers,\n",
        "                               models=keras.models,\n",
        "                               include_top=False,\n",
        "                               input_shape=(256,256,3)) #imports the InceptionResNetV2 model\n",
        "\n",
        "x=base_model.output\n",
        "x=GlobalAveragePooling2D()(x)\n",
        "x=Dense(1024,activation='relu')(x) #we add dense layers so that the model can learn more complex functions and classify for better results.\n",
        "x=Dense(1024,activation='relu')(x) #dense layer 2\n",
        "x=Dense(512,activation='relu')(x) #dense layer 3\n",
        "preds=Dense(6,activation='softmax')(x) #final layer with softmax activation"
      ],
      "execution_count": 0,
      "outputs": [
        {
          "output_type": "stream",
          "text": [
            "Downloading data from https://github.com/fchollet/deep-learning-models/releases/download/v0.7/inception_resnet_v2_weights_tf_dim_ordering_tf_kernels_notop.h5\n",
            "219062272/219055592 [==============================] - 17s 0us/step\n"
          ],
          "name": "stdout"
        }
      ]
    },
    {
      "cell_type": "code",
      "metadata": {
        "id": "B7A_SHtsfq3s",
        "colab_type": "code",
        "colab": {}
      },
      "source": [
        "model=Model(inputs=base_model.input,outputs=preds)\n",
        "#specify the inputs\n",
        "#specify the outputs\n",
        "#now a model has been created based on our architecture"
      ],
      "execution_count": 0,
      "outputs": []
    },
    {
      "cell_type": "code",
      "metadata": {
        "id": "kOJZCnrzfq0w",
        "colab_type": "code",
        "colab": {}
      },
      "source": [
        "for layer in model.layers[:20]:\n",
        "    layer.trainable=False\n",
        "for layer in model.layers[20:]:\n",
        "    layer.trainable=True"
      ],
      "execution_count": 0,
      "outputs": []
    },
    {
      "cell_type": "code",
      "metadata": {
        "id": "kS6dH1uagxvN",
        "colab_type": "code",
        "colab": {}
      },
      "source": [
        "#We'll use the RMSprop optimizer with a learning rate of 0.0001\n",
        "#We'll use binary_crossentropy loss because its a binary classification\n",
        "from keras import optimizers\n",
        "\n",
        "model.compile(loss='binary_crossentropy', optimizer=optimizers.RMSprop(lr=2e-5), metrics=['acc'])"
      ],
      "execution_count": 0,
      "outputs": []
    },
    {
      "cell_type": "code",
      "metadata": {
        "id": "Y9AYnQQxgxsP",
        "colab_type": "code",
        "colab": {}
      },
      "source": [
        "#Lets create the augmentation configuration\n",
        "#This helps prevent overfitting, since we are using a small dataset\n",
        "from keras.preprocessing.image import ImageDataGenerator\n",
        "from keras.preprocessing.image import img_to_array, load_img\n",
        "\n",
        "train_datagen = ImageDataGenerator(rescale=1./255,   #Scale the image between 0 and 1\n",
        "                                    rotation_range=40,\n",
        "                                    width_shift_range=0.2,\n",
        "                                    height_shift_range=0.2,\n",
        "                                    shear_range=0.2,\n",
        "                                    zoom_range=0.2,\n",
        "                                    horizontal_flip=True,\n",
        "                                    fill_mode='nearest')\n",
        "\n",
        "val_datagen = ImageDataGenerator(rescale=1./255)  #We do not augment validation data. we only perform rescale\n"
      ],
      "execution_count": 0,
      "outputs": []
    },
    {
      "cell_type": "code",
      "metadata": {
        "id": "Zo02QiyUgxnE",
        "colab_type": "code",
        "colab": {}
      },
      "source": [
        "#Create the image generators\n",
        "train_generator = train_datagen.flow(x_train, y_train, batch_size=BS)\n",
        "val_generator = val_datagen.flow(x_test, y_test, batch_size=BS)"
      ],
      "execution_count": 0,
      "outputs": []
    },
    {
      "cell_type": "code",
      "metadata": {
        "id": "AE3l1JxIg4DH",
        "colab_type": "code",
        "outputId": "5851c8f0-d4ee-4411-cb70-e686fb1956a5",
        "colab": {
          "base_uri": "https://localhost:8080/",
          "height": 1000
        }
      },
      "source": [
        "%%time\n",
        "\n",
        "#The training part\n",
        "history = model.fit_generator(train_generator,\n",
        "                              steps_per_epoch=len(x_train) // BS,\n",
        "                              epochs=EPOCHS,\n",
        "                              validation_data=val_generator)\n"
      ],
      "execution_count": 0,
      "outputs": [
        {
          "output_type": "stream",
          "text": [
            "Epoch 1/50\n",
            "122/122 [==============================] - 107s 874ms/step - loss: 0.3964 - acc: 0.8405 - val_loss: 0.7123 - val_acc: 0.8333\n",
            "Epoch 2/50\n",
            "122/122 [==============================] - 47s 388ms/step - loss: 0.2928 - acc: 0.8734 - val_loss: 5.1124 - val_acc: 0.7209\n",
            "Epoch 3/50\n",
            "122/122 [==============================] - 48s 391ms/step - loss: 0.2493 - acc: 0.8881 - val_loss: 5.1124 - val_acc: 0.7209\n",
            "Epoch 4/50\n",
            "122/122 [==============================] - 48s 394ms/step - loss: 0.2305 - acc: 0.9021 - val_loss: 3.4082 - val_acc: 0.7209\n",
            "Epoch 5/50\n",
            "122/122 [==============================] - 48s 393ms/step - loss: 0.2119 - acc: 0.9131 - val_loss: 5.1124 - val_acc: 0.7209\n",
            "Epoch 6/50\n",
            "122/122 [==============================] - 48s 395ms/step - loss: 0.2055 - acc: 0.9120 - val_loss: 5.1124 - val_acc: 0.7127\n",
            "Epoch 7/50\n",
            "122/122 [==============================] - 48s 394ms/step - loss: 0.1906 - acc: 0.9213 - val_loss: 3.4082 - val_acc: 0.7127\n",
            "Epoch 8/50\n",
            "122/122 [==============================] - 48s 394ms/step - loss: 0.1789 - acc: 0.9227 - val_loss: 5.1124 - val_acc: 0.7127\n",
            "Epoch 9/50\n",
            "122/122 [==============================] - 48s 396ms/step - loss: 0.1645 - acc: 0.9329 - val_loss: 5.1124 - val_acc: 0.7127\n",
            "Epoch 10/50\n",
            "122/122 [==============================] - 48s 393ms/step - loss: 0.1547 - acc: 0.9394 - val_loss: 5.1124 - val_acc: 0.7127\n",
            "Epoch 11/50\n",
            "122/122 [==============================] - 48s 393ms/step - loss: 0.1512 - acc: 0.9384 - val_loss: 3.4082 - val_acc: 0.7127\n",
            "Epoch 12/50\n",
            "122/122 [==============================] - 48s 392ms/step - loss: 0.1421 - acc: 0.9428 - val_loss: 5.1124 - val_acc: 0.7127\n",
            "Epoch 13/50\n",
            "122/122 [==============================] - 47s 389ms/step - loss: 0.1241 - acc: 0.9569 - val_loss: 3.4082 - val_acc: 0.7127\n",
            "Epoch 14/50\n",
            "122/122 [==============================] - 47s 389ms/step - loss: 0.1344 - acc: 0.9507 - val_loss: 5.1124 - val_acc: 0.7127\n",
            "Epoch 15/50\n",
            "122/122 [==============================] - 48s 391ms/step - loss: 0.1274 - acc: 0.9493 - val_loss: 3.4082 - val_acc: 0.7127\n",
            "Epoch 16/50\n",
            "122/122 [==============================] - 47s 389ms/step - loss: 0.1003 - acc: 0.9589 - val_loss: 5.1124 - val_acc: 0.7263\n",
            "Epoch 17/50\n",
            "122/122 [==============================] - 48s 391ms/step - loss: 0.1119 - acc: 0.9582 - val_loss: 5.1124 - val_acc: 0.7127\n",
            "Epoch 18/50\n",
            "122/122 [==============================] - 47s 389ms/step - loss: 0.0944 - acc: 0.9665 - val_loss: 5.1124 - val_acc: 0.7127\n",
            "Epoch 19/50\n",
            "122/122 [==============================] - 48s 391ms/step - loss: 0.1090 - acc: 0.9569 - val_loss: 3.4082 - val_acc: 0.7127\n",
            "Epoch 20/50\n",
            "122/122 [==============================] - 48s 393ms/step - loss: 0.0936 - acc: 0.9607 - val_loss: 5.1124 - val_acc: 0.7317\n",
            "Epoch 21/50\n",
            "122/122 [==============================] - 48s 390ms/step - loss: 0.0987 - acc: 0.9654 - val_loss: 5.1124 - val_acc: 0.7127\n",
            "Epoch 22/50\n",
            "122/122 [==============================] - 48s 392ms/step - loss: 0.1089 - acc: 0.9603 - val_loss: 1.7041 - val_acc: 0.7317\n",
            "Epoch 23/50\n",
            "122/122 [==============================] - 48s 392ms/step - loss: 0.0969 - acc: 0.9637 - val_loss: 5.1124 - val_acc: 0.7127\n",
            "Epoch 24/50\n",
            "122/122 [==============================] - 48s 392ms/step - loss: 0.0756 - acc: 0.9699 - val_loss: 5.1124 - val_acc: 0.7317\n",
            "Epoch 25/50\n",
            "122/122 [==============================] - 48s 393ms/step - loss: 0.0846 - acc: 0.9695 - val_loss: 5.1124 - val_acc: 0.7263\n",
            "Epoch 26/50\n",
            "122/122 [==============================] - 48s 393ms/step - loss: 0.0721 - acc: 0.9693 - val_loss: 5.1124 - val_acc: 0.7263\n",
            "Epoch 27/50\n",
            "122/122 [==============================] - 48s 390ms/step - loss: 0.0779 - acc: 0.9726 - val_loss: 1.7041 - val_acc: 0.7317\n",
            "Epoch 28/50\n",
            "122/122 [==============================] - 48s 395ms/step - loss: 0.0708 - acc: 0.9723 - val_loss: 3.4082 - val_acc: 0.7317\n",
            "Epoch 29/50\n",
            "122/122 [==============================] - 48s 395ms/step - loss: 0.0622 - acc: 0.9791 - val_loss: 5.1124 - val_acc: 0.7263\n",
            "Epoch 30/50\n",
            "122/122 [==============================] - 48s 392ms/step - loss: 0.0641 - acc: 0.9740 - val_loss: 3.4082 - val_acc: 0.7317\n",
            "Epoch 31/50\n",
            "122/122 [==============================] - 48s 396ms/step - loss: 0.0697 - acc: 0.9713 - val_loss: 3.4082 - val_acc: 0.7263\n",
            "Epoch 32/50\n",
            "122/122 [==============================] - 48s 395ms/step - loss: 0.0520 - acc: 0.9781 - val_loss: 5.1124 - val_acc: 0.7263\n",
            "Epoch 33/50\n",
            "122/122 [==============================] - 48s 393ms/step - loss: 0.0610 - acc: 0.9777 - val_loss: 1.7041 - val_acc: 0.7263\n",
            "Epoch 34/50\n",
            "122/122 [==============================] - 48s 395ms/step - loss: 0.0679 - acc: 0.9743 - val_loss: 5.1124 - val_acc: 0.7263\n",
            "Epoch 35/50\n",
            "122/122 [==============================] - 48s 395ms/step - loss: 0.0500 - acc: 0.9802 - val_loss: 1.7041 - val_acc: 0.7263\n",
            "Epoch 36/50\n",
            "122/122 [==============================] - 49s 398ms/step - loss: 0.0597 - acc: 0.9788 - val_loss: 5.1124 - val_acc: 0.7263\n",
            "Epoch 37/50\n",
            "122/122 [==============================] - 49s 403ms/step - loss: 0.0478 - acc: 0.9815 - val_loss: 5.1124 - val_acc: 0.7263\n",
            "Epoch 38/50\n",
            "122/122 [==============================] - 49s 399ms/step - loss: 0.0502 - acc: 0.9839 - val_loss: 5.1124 - val_acc: 0.7263\n",
            "Epoch 39/50\n",
            "122/122 [==============================] - 49s 399ms/step - loss: 0.0410 - acc: 0.9832 - val_loss: 1.7041 - val_acc: 0.7317\n",
            "Epoch 40/50\n",
            "122/122 [==============================] - 49s 401ms/step - loss: 0.0525 - acc: 0.9819 - val_loss: 3.4082 - val_acc: 0.7263\n",
            "Epoch 41/50\n",
            "122/122 [==============================] - 49s 398ms/step - loss: 0.0508 - acc: 0.9812 - val_loss: 3.4082 - val_acc: 0.7263\n",
            "Epoch 42/50\n",
            "122/122 [==============================] - 48s 397ms/step - loss: 0.0444 - acc: 0.9860 - val_loss: 5.1124 - val_acc: 0.7263\n",
            "Epoch 43/50\n",
            "122/122 [==============================] - 49s 398ms/step - loss: 0.0463 - acc: 0.9825 - val_loss: 5.1124 - val_acc: 0.7317\n",
            "Epoch 44/50\n",
            "122/122 [==============================] - 48s 396ms/step - loss: 0.0344 - acc: 0.9877 - val_loss: 5.1124 - val_acc: 0.7263\n",
            "Epoch 45/50\n",
            "122/122 [==============================] - 49s 398ms/step - loss: 0.0391 - acc: 0.9853 - val_loss: 1.7041 - val_acc: 0.7263\n",
            "Epoch 46/50\n",
            "122/122 [==============================] - 49s 404ms/step - loss: 0.0286 - acc: 0.9894 - val_loss: 3.4082 - val_acc: 0.7317\n",
            "Epoch 47/50\n",
            "122/122 [==============================] - 49s 399ms/step - loss: 0.0521 - acc: 0.9839 - val_loss: 1.7041 - val_acc: 0.7317\n",
            "Epoch 48/50\n",
            "122/122 [==============================] - 49s 405ms/step - loss: 0.0340 - acc: 0.9877 - val_loss: 1.7041 - val_acc: 0.7317\n",
            "Epoch 49/50\n",
            "122/122 [==============================] - 49s 398ms/step - loss: 0.0443 - acc: 0.9839 - val_loss: 1.7041 - val_acc: 0.7317\n",
            "Epoch 50/50\n",
            "122/122 [==============================] - 49s 402ms/step - loss: 0.0368 - acc: 0.9877 - val_loss: 3.4082 - val_acc: 0.7317\n",
            "CPU times: user 45min 36s, sys: 7min 9s, total: 52min 45s\n",
            "Wall time: 41min 54s\n"
          ],
          "name": "stdout"
        }
      ]
    },
    {
      "cell_type": "code",
      "metadata": {
        "id": "5GNHDw9bg4AL",
        "colab_type": "code",
        "outputId": "eea8ef06-3e71-4e82-926b-28f0223b3870",
        "colab": {
          "base_uri": "https://localhost:8080/",
          "height": 52
        }
      },
      "source": [
        "scores = model.evaluate(x_test, y_test)\n",
        "print(f\"Test Accuracy: {scores[1]*100}\") "
      ],
      "execution_count": 0,
      "outputs": [
        {
          "output_type": "stream",
          "text": [
            "123/123 [==============================] - 3s 26ms/step\n",
            "Test Accuracy: 73.17073941230774\n"
          ],
          "name": "stdout"
        }
      ]
    },
    {
      "cell_type": "code",
      "metadata": {
        "id": "c7xaGLQ_g39E",
        "colab_type": "code",
        "outputId": "2b07aeca-6d4f-4d2f-a888-1dd238460723",
        "colab": {
          "base_uri": "https://localhost:8080/",
          "height": 544
        }
      },
      "source": [
        "#lets plot the train and val curve\n",
        "import matplotlib.pyplot as plt\n",
        "\n",
        "#get the details form the history object\n",
        "acc = history.history['acc']\n",
        "val_acc = history.history['val_acc']\n",
        "loss = history.history['loss']\n",
        "val_loss = history.history['val_loss']\n",
        "\n",
        "epochs = range(1, len(acc) + 1)\n",
        "\n",
        "#Train and validation accuracy\n",
        "plt.plot(epochs, acc, 'b', label='Training accurarcy')\n",
        "plt.plot(epochs, val_acc, 'r', label='Validation accurarcy')\n",
        "plt.title('Training and Validation accurarcy')\n",
        "plt.legend()\n",
        "plt.figure()\n",
        "\n",
        "#Train and validation loss\n",
        "plt.plot(epochs, loss, 'b', label='Training loss')\n",
        "plt.plot(epochs, val_loss, 'r', label='Validation loss')\n",
        "plt.title('Training and Validation loss')\n",
        "plt.legend()\n",
        "\n",
        "plt.show() "
      ],
      "execution_count": 0,
      "outputs": [
        {
          "output_type": "display_data",
          "data": {
            "image/png": "[encoded data removed]",
            "text/plain": [
              "<Figure size 432x288 with 1 Axes>"
            ]
          },
          "metadata": {
            "tags": [],
            "needs_background": "light"
          }
        },
        {
          "output_type": "display_data",
          "data": {
            "image/png": "[encoded data removed]",
            "text/plain": [
              "<Figure size 432x288 with 1 Axes>"
            ]
          },
          "metadata": {
            "tags": [],
            "needs_background": "light"
          }
        }
      ]
    },
    {
      "cell_type": "code",
      "metadata": {
        "id": "0hGmzfzxg354",
        "colab_type": "code",
        "colab": {}
      },
      "source": [
        ""
      ],
      "execution_count": 0,
      "outputs": []
    }
  ]
}