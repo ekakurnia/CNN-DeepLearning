{
  "nbformat": 4,
  "nbformat_minor": 0,
  "metadata": {
    "colab": {
      "name": "Tomato_Resnet_50Epoch.ipynb",
      "provenance": [],
      "collapsed_sections": [],
      "authorship_tag": "ABX9TyMD4rcui3uEYeiTbjWoGIum",
      "include_colab_link": true
    },
    "kernelspec": {
      "name": "python3",
      "display_name": "Python 3"
    },
    "accelerator": "GPU"
  },
  "cells": [
    {
      "cell_type": "markdown",
      "metadata": {
        "id": "view-in-github",
        "colab_type": "text"
      },
      "source": [
        "<a href=\"https://colab.research.google.com/github/ekakurnia/CNN-DeepLearning/blob/master/Tomato_Resnet_50Epoch.ipynb\" target=\"_parent\"><img src=\"https://colab.research.google.com/assets/colab-badge.svg\" alt=\"Open In Colab\"/></a>"
      ]
    },
    {
      "cell_type": "code",
      "metadata": {
        "id": "hMOZzSC_D3_2",
        "colab_type": "code",
        "outputId": "5da3aa5a-a201-4f07-bb40-70812af01579",
        "colab": {
          "base_uri": "https://localhost:8080/",
          "height": 122
        }
      },
      "source": [
        "from google.colab import drive\n",
        "drive.mount('/content/drive')"
      ],
      "execution_count": 0,
      "outputs": [
        {
          "output_type": "stream",
          "text": [
            "Go to this URL in a browser: https://accounts.google.com/o/oauth2/auth?client_id=947318989803-6bn6qk8qdgf4n4g3pfee6491hc0brc4i.apps.googleusercontent.com&redirect_uri=urn%3aietf%3awg%3aoauth%3a2.0%3aoob&response_type=code&scope=email%20https%3a%2f%2fwww.googleapis.com%2fauth%2fdocs.test%20https%3a%2f%2fwww.googleapis.com%2fauth%2fdrive%20https%3a%2f%2fwww.googleapis.com%2fauth%2fdrive.photos.readonly%20https%3a%2f%2fwww.googleapis.com%2fauth%2fpeopleapi.readonly\n",
            "\n",
            "Enter your authorization code:\n",
            "··········\n",
            "Mounted at /content/drive\n"
          ],
          "name": "stdout"
        }
      ]
    },
    {
      "cell_type": "code",
      "metadata": {
        "id": "mf00E5cwGJCt",
        "colab_type": "code",
        "outputId": "0a9ddd95-3691-4c45-d07a-6e1945ccd703",
        "colab": {
          "base_uri": "https://localhost:8080/",
          "height": 34
        }
      },
      "source": [
        "%cd drive/'My Drive'"
      ],
      "execution_count": 0,
      "outputs": [
        {
          "output_type": "stream",
          "text": [
            "/content/drive/My Drive\n"
          ],
          "name": "stdout"
        }
      ]
    },
    {
      "cell_type": "code",
      "metadata": {
        "id": "Vs2QLwDaGI90",
        "colab_type": "code",
        "colab": {}
      },
      "source": [
        "import numpy as np\n",
        "import pickle\n",
        "import cv2\n",
        "from os import listdir\n",
        "from sklearn.preprocessing import LabelBinarizer\n",
        "from keras.models import Sequential\n",
        "from keras.layers.normalization import BatchNormalization\n",
        "from keras.layers.convolutional import Conv2D\n",
        "from keras.layers.convolutional import MaxPooling2D\n",
        "from keras.layers.core import Activation, Flatten, Dropout, Dense\n",
        "from keras import backend as K\n",
        "from keras.preprocessing.image import ImageDataGenerator\n",
        "from keras.optimizers import Adam\n",
        "from keras.preprocessing import image\n",
        "from keras.preprocessing.image import img_to_array\n",
        "from sklearn.preprocessing import MultiLabelBinarizer\n",
        "from sklearn.model_selection import train_test_split\n",
        "import matplotlib.pyplot as plt\n",
        "\n",
        "from keras.models import Model\n",
        "import keras\n",
        "from keras.applications.resnet import ResNet152"
      ],
      "execution_count": 0,
      "outputs": []
    },
    {
      "cell_type": "code",
      "metadata": {
        "id": "eAZbBnrOF8eS",
        "colab_type": "code",
        "colab": {}
      },
      "source": [
        "EPOCHS = 50\n",
        "INIT_LR = 1e-3\n",
        "BS = 32\n",
        "default_image_size = tuple((224, 224))\n",
        "image_size = 0\n",
        "directory_root = './Dataset/'\n",
        "width=224\n",
        "height=224\n",
        "depth=3"
      ],
      "execution_count": 0,
      "outputs": []
    },
    {
      "cell_type": "code",
      "metadata": {
        "id": "JecghwcRG3fG",
        "colab_type": "code",
        "colab": {}
      },
      "source": [
        "def convert_image_to_array(image_dir):\n",
        "    try:\n",
        "        image = cv2.imread(image_dir)\n",
        "        if image is not None :\n",
        "            image = cv2.resize(image, default_image_size)   \n",
        "            return img_to_array(image)\n",
        "        else :\n",
        "            return np.array([])\n",
        "    except Exception as e:\n",
        "        print(f\"Error : {e}\")\n",
        "        return None"
      ],
      "execution_count": 0,
      "outputs": []
    },
    {
      "cell_type": "code",
      "metadata": {
        "id": "a3KUmOmmG3cE",
        "colab_type": "code",
        "outputId": "94207edc-cfe0-4a18-a747-c94f0e2fd84b",
        "colab": {
          "base_uri": "https://localhost:8080/",
          "height": 153
        }
      },
      "source": [
        "image_list, label_list = [], []\n",
        "try:\n",
        "    print(\"[INFO] Loading images ...\")\n",
        "    root_dir = listdir(directory_root)\n",
        "    for directory in root_dir :\n",
        "        # remove .DS_Store from list\n",
        "        if directory == \".DS_Store\" :\n",
        "            root_dir.remove(directory)\n",
        "\n",
        "    for plant_folder in root_dir :\n",
        "        plant_disease_folder_list = listdir(f\"{directory_root}/{plant_folder}\")\n",
        "        \n",
        "        for disease_folder in plant_disease_folder_list :\n",
        "            # remove .DS_Store from list\n",
        "            if disease_folder == \".DS_Store\" :\n",
        "                plant_disease_folder_list.remove(disease_folder)\n",
        "\n",
        "        for plant_disease_folder in plant_disease_folder_list:\n",
        "            print(f\"[INFO] Processing {plant_disease_folder} ...\")\n",
        "            plant_disease_image_list = listdir(f\"{directory_root}/{plant_folder}/{plant_disease_folder}/\")\n",
        "                \n",
        "            for single_plant_disease_image in plant_disease_image_list :\n",
        "                if single_plant_disease_image == \".DS_Store\" :\n",
        "                    plant_disease_image_list.remove(single_plant_disease_image)\n",
        "\n",
        "            for image in plant_disease_image_list[:200]:\n",
        "                image_directory = f\"{directory_root}/{plant_folder}/{plant_disease_folder}/{image}\"\n",
        "                if image_directory.endswith(\".jpg\") == True or image_directory.endswith(\".JPG\") == True:\n",
        "                    image_list.append(convert_image_to_array(image_directory))\n",
        "                    label_list.append(plant_disease_folder)\n",
        "    print(\"[INFO] Image loading completed\")  \n",
        "except Exception as e:\n",
        "    print(f\"Error : {e}\")"
      ],
      "execution_count": 0,
      "outputs": [
        {
          "output_type": "stream",
          "text": [
            "[INFO] Loading images ...\n",
            "[INFO] Processing Tomato___Bacterial_spot ...\n",
            "[INFO] Processing Tomato___Early_blight ...\n",
            "[INFO] Processing Tomato___Late_blight ...\n",
            "[INFO] Processing Tomato___Leaf_Mold ...\n",
            "[INFO] Processing Tomato___Septoria_leaf_spot ...\n",
            "[INFO] Processing Tomato___Tomato_Yellow_Leaf_Curl_Virus ...\n",
            "[INFO] Image loading completed\n"
          ],
          "name": "stdout"
        }
      ]
    },
    {
      "cell_type": "code",
      "metadata": {
        "id": "GSuXuzGBG3ZG",
        "colab_type": "code",
        "colab": {}
      },
      "source": [
        "image_size = len(image_list)"
      ],
      "execution_count": 0,
      "outputs": []
    },
    {
      "cell_type": "code",
      "metadata": {
        "id": "okBvX3HcG3VH",
        "colab_type": "code",
        "outputId": "ce8a9677-925c-4bf1-c983-fc27332eba54",
        "colab": {
          "base_uri": "https://localhost:8080/",
          "height": 34
        }
      },
      "source": [
        "print(image_size)"
      ],
      "execution_count": 0,
      "outputs": [
        {
          "output_type": "stream",
          "text": [
            "1200\n"
          ],
          "name": "stdout"
        }
      ]
    },
    {
      "cell_type": "code",
      "metadata": {
        "id": "_qp4snSyG3QY",
        "colab_type": "code",
        "colab": {}
      },
      "source": [
        "label_binarizer = LabelBinarizer()\n",
        "image_labels = label_binarizer.fit_transform(label_list)\n",
        "pickle.dump(label_binarizer,open('label_transform.pkl', 'wb'))\n",
        "n_classes = len(label_binarizer.classes_)"
      ],
      "execution_count": 0,
      "outputs": []
    },
    {
      "cell_type": "code",
      "metadata": {
        "id": "wiR7xPx_LUZE",
        "colab_type": "code",
        "outputId": "212d0db3-2074-4c48-962a-48ecd8d9a22a",
        "colab": {
          "base_uri": "https://localhost:8080/",
          "height": 68
        }
      },
      "source": [
        "print(label_binarizer.classes_)"
      ],
      "execution_count": 0,
      "outputs": [
        {
          "output_type": "stream",
          "text": [
            "['Tomato___Bacterial_spot' 'Tomato___Early_blight' 'Tomato___Late_blight'\n",
            " 'Tomato___Leaf_Mold' 'Tomato___Septoria_leaf_spot'\n",
            " 'Tomato___Tomato_Yellow_Leaf_Curl_Virus']\n"
          ],
          "name": "stdout"
        }
      ]
    },
    {
      "cell_type": "code",
      "metadata": {
        "id": "vrIJhCM8LYX8",
        "colab_type": "code",
        "colab": {}
      },
      "source": [
        "np_image_list = np.array(image_list, dtype=np.float16) / 225.0"
      ],
      "execution_count": 0,
      "outputs": []
    },
    {
      "cell_type": "code",
      "metadata": {
        "id": "u28YeKmyLdz_",
        "colab_type": "code",
        "outputId": "8ecefa8f-6a3b-4d5b-e4dc-0f6d01c2849f",
        "colab": {
          "base_uri": "https://localhost:8080/",
          "height": 34
        }
      },
      "source": [
        "print(\"[INFO] Spliting data to train, test\")\n",
        "x_train, x_test, y_train, y_test = train_test_split(np_image_list, image_labels, test_size=0.2, random_state = 42) "
      ],
      "execution_count": 0,
      "outputs": [
        {
          "output_type": "stream",
          "text": [
            "[INFO] Spliting data to train, test\n"
          ],
          "name": "stdout"
        }
      ]
    },
    {
      "cell_type": "code",
      "metadata": {
        "id": "DaolyPRaLh8r",
        "colab_type": "code",
        "colab": {}
      },
      "source": [
        "aug = ImageDataGenerator(\n",
        "    rotation_range=25, width_shift_range=0.1,\n",
        "    height_shift_range=0.1, shear_range=0.2, \n",
        "    zoom_range=0.2,horizontal_flip=True, \n",
        "    fill_mode=\"nearest\")"
      ],
      "execution_count": 0,
      "outputs": []
    },
    {
      "cell_type": "code",
      "metadata": {
        "id": "b9_VwqSuLqV7",
        "colab_type": "code",
        "outputId": "ac33139b-d278-4072-b885-20ac696f26f3",
        "colab": {
          "base_uri": "https://localhost:8080/",
          "height": 71
        }
      },
      "source": [
        "input_shape = (height, width, depth)\n",
        "\n",
        "restnet = ResNet152(include_top=False, weights='imagenet', input_shape=(height,width,3))\n",
        "output = restnet.layers[-1].output\n",
        "output = keras.layers.Flatten()(output)\n",
        "restnet = Model(restnet.input, output=output)\n",
        "\n",
        "for layer in restnet.layers:\n",
        "    layer.trainable = False\n",
        "  \n",
        "model = Sequential()\n",
        "model.add(restnet)\n",
        "model.add(Dense(512, activation='relu', input_dim=input_shape))\n",
        "model.add(Dropout(0.3))\n",
        "model.add(Dense(512, activation='relu'))\n",
        "model.add(Dropout(0.3))\n",
        "model.add(Dense(6, activation='softmax'))"
      ],
      "execution_count": 0,
      "outputs": [
        {
          "output_type": "stream",
          "text": [
            "/usr/local/lib/python3.6/dist-packages/ipykernel_launcher.py:6: UserWarning: Update your `Model` call to the Keras 2 API: `Model(Tensor(\"in..., outputs=Tensor(\"fl...)`\n",
            "  \n"
          ],
          "name": "stderr"
        }
      ]
    },
    {
      "cell_type": "code",
      "metadata": {
        "id": "sPRo1HaeL3GI",
        "colab_type": "code",
        "outputId": "414c1ccd-1120-4906-a201-0c76e5129b86",
        "colab": {
          "base_uri": "https://localhost:8080/",
          "height": 374
        }
      },
      "source": [
        "print(model.summary())"
      ],
      "execution_count": 0,
      "outputs": [
        {
          "output_type": "stream",
          "text": [
            "Model: \"sequential_2\"\n",
            "_________________________________________________________________\n",
            "Layer (type)                 Output Shape              Param #   \n",
            "=================================================================\n",
            "model_2 (Model)              (None, 100352)            58370944  \n",
            "_________________________________________________________________\n",
            "dense_4 (Dense)              (None, 512)               51380736  \n",
            "_________________________________________________________________\n",
            "dropout_3 (Dropout)          (None, 512)               0         \n",
            "_________________________________________________________________\n",
            "dense_5 (Dense)              (None, 512)               262656    \n",
            "_________________________________________________________________\n",
            "dropout_4 (Dropout)          (None, 512)               0         \n",
            "_________________________________________________________________\n",
            "dense_6 (Dense)              (None, 6)                 3078      \n",
            "=================================================================\n",
            "Total params: 110,017,414\n",
            "Trainable params: 51,646,470\n",
            "Non-trainable params: 58,370,944\n",
            "_________________________________________________________________\n",
            "None\n"
          ],
          "name": "stdout"
        }
      ]
    },
    {
      "cell_type": "code",
      "metadata": {
        "id": "A8LraoP_Utyk",
        "colab_type": "code",
        "outputId": "1fbc0fa1-324e-41d3-fd16-63b52746bb5f",
        "colab": {
          "base_uri": "https://localhost:8080/",
          "height": 34
        }
      },
      "source": [
        "opt = Adam(lr=INIT_LR, decay=INIT_LR / EPOCHS)\n",
        "# distribution\n",
        "model.compile(loss=\"binary_crossentropy\", optimizer=opt,metrics=[\"accuracy\"])\n",
        "# train the network\n",
        "print(\"[INFO] training network...\")"
      ],
      "execution_count": 0,
      "outputs": [
        {
          "output_type": "stream",
          "text": [
            "[INFO] training network...\n"
          ],
          "name": "stdout"
        }
      ]
    },
    {
      "cell_type": "code",
      "metadata": {
        "id": "Emj_TyyjU65T",
        "colab_type": "code",
        "outputId": "2860ba15-c9e2-4704-bb75-1285825a60a4",
        "colab": {
          "base_uri": "https://localhost:8080/",
          "height": 1000
        }
      },
      "source": [
        "history = model.fit_generator(\n",
        "    aug.flow(x_train, y_train, batch_size=BS),\n",
        "    validation_data=(x_test, y_test),\n",
        "    steps_per_epoch=len(x_train) // BS,\n",
        "    epochs=EPOCHS, verbose=1\n",
        "    )"
      ],
      "execution_count": 0,
      "outputs": [
        {
          "output_type": "stream",
          "text": [
            "Epoch 1/50\n",
            "30/30 [==============================] - 61s 2s/step - loss: 4.1261 - acc: 0.7285 - val_loss: 4.5642 - val_acc: 0.7153\n",
            "Epoch 2/50\n",
            "30/30 [==============================] - 24s 799ms/step - loss: 4.4250 - acc: 0.7240 - val_loss: 4.5642 - val_acc: 0.7153\n",
            "Epoch 3/50\n",
            "30/30 [==============================] - 24s 804ms/step - loss: 4.4250 - acc: 0.7240 - val_loss: 4.5642 - val_acc: 0.7153\n",
            "Epoch 4/50\n",
            "30/30 [==============================] - 24s 808ms/step - loss: 4.4250 - acc: 0.7240 - val_loss: 4.5642 - val_acc: 0.7153\n",
            "Epoch 5/50\n",
            "30/30 [==============================] - 24s 813ms/step - loss: 4.4250 - acc: 0.7240 - val_loss: 4.5642 - val_acc: 0.7153\n",
            "Epoch 6/50\n",
            "30/30 [==============================] - 24s 813ms/step - loss: 4.4250 - acc: 0.7240 - val_loss: 4.5642 - val_acc: 0.7153\n",
            "Epoch 7/50\n",
            "30/30 [==============================] - 24s 812ms/step - loss: 4.4250 - acc: 0.7240 - val_loss: 4.5642 - val_acc: 0.7153\n",
            "Epoch 8/50\n",
            "30/30 [==============================] - 24s 813ms/step - loss: 4.4250 - acc: 0.7240 - val_loss: 4.5642 - val_acc: 0.7153\n",
            "Epoch 9/50\n",
            "30/30 [==============================] - 24s 814ms/step - loss: 4.4250 - acc: 0.7240 - val_loss: 4.5642 - val_acc: 0.7153\n",
            "Epoch 10/50\n",
            "30/30 [==============================] - 24s 812ms/step - loss: 4.4250 - acc: 0.7240 - val_loss: 4.5642 - val_acc: 0.7153\n",
            "Epoch 11/50\n",
            "30/30 [==============================] - 24s 814ms/step - loss: 4.4250 - acc: 0.7240 - val_loss: 4.5642 - val_acc: 0.7153\n",
            "Epoch 12/50\n",
            "30/30 [==============================] - 24s 812ms/step - loss: 4.4250 - acc: 0.7240 - val_loss: 4.5642 - val_acc: 0.7153\n",
            "Epoch 13/50\n",
            "30/30 [==============================] - 24s 811ms/step - loss: 4.4250 - acc: 0.7240 - val_loss: 4.5642 - val_acc: 0.7153\n",
            "Epoch 14/50\n",
            "30/30 [==============================] - 24s 811ms/step - loss: 4.4250 - acc: 0.7240 - val_loss: 4.5642 - val_acc: 0.7153\n",
            "Epoch 15/50\n",
            "30/30 [==============================] - 24s 811ms/step - loss: 4.4250 - acc: 0.7240 - val_loss: 4.5642 - val_acc: 0.7153\n",
            "Epoch 16/50\n",
            "30/30 [==============================] - 24s 812ms/step - loss: 4.4250 - acc: 0.7240 - val_loss: 4.5642 - val_acc: 0.7153\n",
            "Epoch 17/50\n",
            "30/30 [==============================] - 24s 811ms/step - loss: 4.4250 - acc: 0.7240 - val_loss: 4.5642 - val_acc: 0.7153\n",
            "Epoch 18/50\n",
            "30/30 [==============================] - 24s 813ms/step - loss: 4.4250 - acc: 0.7240 - val_loss: 4.5642 - val_acc: 0.7153\n",
            "Epoch 19/50\n",
            "30/30 [==============================] - 24s 812ms/step - loss: 4.4250 - acc: 0.7240 - val_loss: 4.5642 - val_acc: 0.7153\n",
            "Epoch 20/50\n",
            "30/30 [==============================] - 24s 811ms/step - loss: 4.4250 - acc: 0.7240 - val_loss: 4.5642 - val_acc: 0.7153\n",
            "Epoch 21/50\n",
            "30/30 [==============================] - 24s 810ms/step - loss: 4.4250 - acc: 0.7240 - val_loss: 4.5642 - val_acc: 0.7153\n",
            "Epoch 22/50\n",
            "30/30 [==============================] - 24s 812ms/step - loss: 4.4250 - acc: 0.7240 - val_loss: 4.5642 - val_acc: 0.7153\n",
            "Epoch 23/50\n",
            "30/30 [==============================] - 24s 812ms/step - loss: 4.4250 - acc: 0.7240 - val_loss: 4.5642 - val_acc: 0.7153\n",
            "Epoch 24/50\n",
            "30/30 [==============================] - 24s 810ms/step - loss: 4.4250 - acc: 0.7240 - val_loss: 4.5642 - val_acc: 0.7153\n",
            "Epoch 25/50\n",
            "30/30 [==============================] - 24s 809ms/step - loss: 4.4250 - acc: 0.7240 - val_loss: 4.5642 - val_acc: 0.7153\n",
            "Epoch 26/50\n",
            "30/30 [==============================] - 24s 810ms/step - loss: 4.4250 - acc: 0.7240 - val_loss: 4.5642 - val_acc: 0.7153\n",
            "Epoch 27/50\n",
            "30/30 [==============================] - 24s 813ms/step - loss: 4.4250 - acc: 0.7240 - val_loss: 4.5642 - val_acc: 0.7153\n",
            "Epoch 28/50\n",
            "30/30 [==============================] - 24s 812ms/step - loss: 4.4250 - acc: 0.7240 - val_loss: 4.5642 - val_acc: 0.7153\n",
            "Epoch 29/50\n",
            "30/30 [==============================] - 24s 812ms/step - loss: 4.4250 - acc: 0.7240 - val_loss: 4.5642 - val_acc: 0.7153\n",
            "Epoch 30/50\n",
            "30/30 [==============================] - 24s 811ms/step - loss: 4.4250 - acc: 0.7240 - val_loss: 4.5642 - val_acc: 0.7153\n",
            "Epoch 31/50\n",
            "30/30 [==============================] - 24s 810ms/step - loss: 4.4250 - acc: 0.7240 - val_loss: 4.5642 - val_acc: 0.7153\n",
            "Epoch 32/50\n",
            "30/30 [==============================] - 24s 809ms/step - loss: 4.4250 - acc: 0.7240 - val_loss: 4.5642 - val_acc: 0.7153\n",
            "Epoch 33/50\n",
            "30/30 [==============================] - 24s 809ms/step - loss: 4.4250 - acc: 0.7240 - val_loss: 4.5642 - val_acc: 0.7153\n",
            "Epoch 34/50\n",
            "30/30 [==============================] - 24s 810ms/step - loss: 4.4194 - acc: 0.7243 - val_loss: 4.5642 - val_acc: 0.7153\n",
            "Epoch 35/50\n",
            "30/30 [==============================] - 24s 811ms/step - loss: 4.4250 - acc: 0.7240 - val_loss: 4.5642 - val_acc: 0.7153\n",
            "Epoch 36/50\n",
            "30/30 [==============================] - 24s 810ms/step - loss: 4.4250 - acc: 0.7240 - val_loss: 4.5642 - val_acc: 0.7153\n",
            "Epoch 37/50\n",
            "30/30 [==============================] - 24s 811ms/step - loss: 4.4250 - acc: 0.7240 - val_loss: 4.5642 - val_acc: 0.7153\n",
            "Epoch 38/50\n",
            "30/30 [==============================] - 24s 810ms/step - loss: 4.4250 - acc: 0.7240 - val_loss: 4.5642 - val_acc: 0.7153\n",
            "Epoch 39/50\n",
            "30/30 [==============================] - 24s 811ms/step - loss: 4.4250 - acc: 0.7240 - val_loss: 4.5642 - val_acc: 0.7153\n",
            "Epoch 40/50\n",
            "30/30 [==============================] - 24s 810ms/step - loss: 4.4250 - acc: 0.7240 - val_loss: 4.5642 - val_acc: 0.7153\n",
            "Epoch 41/50\n",
            "30/30 [==============================] - 24s 810ms/step - loss: 4.4250 - acc: 0.7240 - val_loss: 4.5642 - val_acc: 0.7153\n",
            "Epoch 42/50\n",
            "30/30 [==============================] - 24s 809ms/step - loss: 4.4250 - acc: 0.7240 - val_loss: 4.5642 - val_acc: 0.7153\n",
            "Epoch 43/50\n",
            "30/30 [==============================] - 24s 809ms/step - loss: 4.4250 - acc: 0.7240 - val_loss: 4.5642 - val_acc: 0.7153\n",
            "Epoch 44/50\n",
            "30/30 [==============================] - 24s 811ms/step - loss: 4.4250 - acc: 0.7240 - val_loss: 4.5642 - val_acc: 0.7153\n",
            "Epoch 45/50\n",
            "30/30 [==============================] - 24s 810ms/step - loss: 4.4250 - acc: 0.7240 - val_loss: 4.5642 - val_acc: 0.7153\n",
            "Epoch 46/50\n",
            "30/30 [==============================] - 24s 810ms/step - loss: 4.4250 - acc: 0.7240 - val_loss: 4.5642 - val_acc: 0.7153\n",
            "Epoch 47/50\n",
            "30/30 [==============================] - 24s 812ms/step - loss: 4.4250 - acc: 0.7240 - val_loss: 4.5642 - val_acc: 0.7153\n",
            "Epoch 48/50\n",
            "30/30 [==============================] - 24s 812ms/step - loss: 4.4250 - acc: 0.7240 - val_loss: 4.5642 - val_acc: 0.7153\n",
            "Epoch 49/50\n",
            "30/30 [==============================] - 24s 810ms/step - loss: 4.4250 - acc: 0.7240 - val_loss: 4.5642 - val_acc: 0.7153\n",
            "Epoch 50/50\n",
            "30/30 [==============================] - 24s 812ms/step - loss: 4.4250 - acc: 0.7240 - val_loss: 4.5642 - val_acc: 0.7153\n"
          ],
          "name": "stdout"
        }
      ]
    },
    {
      "cell_type": "code",
      "metadata": {
        "id": "jb4_JuhAbTTv",
        "colab_type": "code",
        "outputId": "7c6c27a4-44ef-4e62-bf23-0529e67b7d0f",
        "colab": {
          "base_uri": "https://localhost:8080/",
          "height": 545
        }
      },
      "source": [
        "acc = history.history['acc']\n",
        "val_acc = history.history['val_acc']\n",
        "loss = history.history['loss']\n",
        "val_loss = history.history['val_loss']\n",
        "epochs = range(1, len(acc) + 1)\n",
        "#Train and validation accuracy\n",
        "plt.plot(epochs, acc, 'b', label='Training accurarcy')\n",
        "plt.plot(epochs, val_acc, 'r', label='Validation accurarcy')\n",
        "plt.title('Training and Validation accurarcy')\n",
        "plt.legend()\n",
        "\n",
        "plt.figure()\n",
        "#Train and validation loss\n",
        "plt.plot(epochs, loss, 'b', label='Training loss')\n",
        "plt.plot(epochs, val_loss, 'r', label='Validation loss')\n",
        "plt.title('Training and Validation loss')\n",
        "plt.legend()\n",
        "plt.show()"
      ],
      "execution_count": 0,
      "outputs": [
        {
          "output_type": "display_data",
          "data": {
            "image/png": "[encoded data removed]",
            "text/plain": [
              "<Figure size 432x288 with 1 Axes>"
            ]
          },
          "metadata": {
            "tags": []
          }
        },
        {
          "output_type": "display_data",
          "data": {
            "image/png": "[encoded data removed]",
            "text/plain": [
              "<Figure size 432x288 with 1 Axes>"
            ]
          },
          "metadata": {
            "tags": []
          }
        }
      ]
    },
    {
      "cell_type": "code",
      "metadata": {
        "id": "HQf9P4MDbcvC",
        "colab_type": "code",
        "outputId": "756f52ed-181e-48fd-ad94-cf8ad0ab95c7",
        "colab": {
          "base_uri": "https://localhost:8080/",
          "height": 68
        }
      },
      "source": [
        "print(\"[INFO] Calculating model accuracy\")\n",
        "scores = model.evaluate(x_test, y_test)\n",
        "print(f\"Test Accuracy: {scores[1]*100}\")"
      ],
      "execution_count": 0,
      "outputs": [
        {
          "output_type": "stream",
          "text": [
            "[INFO] Calculating model accuracy\n",
            "240/240 [==============================] - 5s 21ms/step\n",
            "Test Accuracy: 71.52777989705403\n"
          ],
          "name": "stdout"
        }
      ]
    }
  ]
}