{
  "nbformat": 4,
  "nbformat_minor": 0,
  "metadata": {
    "colab": {
      "name": "MNIST_AlexNet_50Epoch.ipynb",
      "provenance": [],
      "collapsed_sections": [],
      "authorship_tag": "ABX9TyMawt4KzJaeCPng3zOjKjMp",
      "include_colab_link": true
    },
    "kernelspec": {
      "name": "python3",
      "display_name": "Python 3"
    },
    "accelerator": "GPU"
  },
  "cells": [
    {
      "cell_type": "markdown",
      "metadata": {
        "id": "view-in-github",
        "colab_type": "text"
      },
      "source": [
        "<a href=\"https://colab.research.google.com/github/ekakurnia/CNN-DeepLearning/blob/master/MNIST_AlexNet_50Epoch.ipynb\" target=\"_parent\"><img src=\"https://colab.research.google.com/assets/colab-badge.svg\" alt=\"Open In Colab\"/></a>"
      ]
    },
    {
      "cell_type": "code",
      "metadata": {
        "id": "SIFkD57Xs1Zr",
        "colab_type": "code",
        "colab": {}
      },
      "source": [
        "import matplotlib.pyplot as plt\n",
        "import tensorflow as tf\n",
        "import numpy as np\n",
        "import keras\n",
        "\n",
        "from keras.layers import Dense, Activation, Dropout, Flatten,\\\n",
        " Conv2D, MaxPooling2D\n",
        "from keras.datasets import mnist\n",
        "from keras.models import Sequential\n",
        "from keras.layers import Dense, Dropout, Activation, Flatten\n",
        "from keras.optimizers import Adam\n",
        "from keras.layers.normalization import BatchNormalization\n",
        "from keras.utils import np_utils\n",
        "from keras.layers import Conv2D, MaxPooling2D, ZeroPadding2D, GlobalAveragePooling2D\n",
        "from keras.layers.advanced_activations import LeakyReLU \n",
        "from keras.preprocessing.image import ImageDataGenerator\n"
      ],
      "execution_count": 0,
      "outputs": []
    },
    {
      "cell_type": "code",
      "metadata": {
        "id": "gtJ0Ysa6tR8t",
        "colab_type": "code",
        "colab": {}
      },
      "source": [
        "mnist = tf.keras.datasets.mnist\n",
        "(x_train, y_train), (x_test, y_test) = mnist.load_data()\n",
        "\n",
        "rows, cols = 28, 28\n",
        "\n",
        "x_train = x_train.reshape(x_train.shape[0], rows, cols, 1)\n",
        "x_test = x_test.reshape(x_test.shape[0], rows, cols, 1)\n",
        "\n",
        "input_shape = (rows, cols, 1)\n",
        "\n",
        "# convert to float and normalize\n",
        "x_train = x_train.astype('float32')\n",
        "x_test = x_test.astype('float32')\n",
        "x_train = x_train / 255.0\n",
        "x_test = x_test / 255.0\n",
        "\n",
        "# one-hot encode the labels\n",
        "y_train = tf.keras.utils.to_categorical(y_train, 10)\n",
        "y_test = tf.keras.utils.to_categorical(y_test, 10)\n"
      ],
      "execution_count": 0,
      "outputs": []
    },
    {
      "cell_type": "code",
      "metadata": {
        "id": "3Us42-ghtcKF",
        "colab_type": "code",
        "colab": {}
      },
      "source": [
        "model = Sequential()\n",
        "\n",
        "model.add(Conv2D(32, (3, 3), input_shape=(28,28,1)))\n",
        "model.add(BatchNormalization(axis=-1))\n",
        "model.add(Activation('relu'))\n",
        "\n",
        "model.add(Conv2D(32, (3, 3)))\n",
        "model.add(BatchNormalization(axis=-1))\n",
        "model.add(Activation('relu'))\n",
        "model.add(MaxPooling2D(pool_size=(2,2)))\n",
        "\n",
        "model.add(Conv2D(64,(3, 3)))\n",
        "model.add(BatchNormalization(axis=-1))\n",
        "model.add(Activation('relu'))\n",
        "\n",
        "model.add(Conv2D(64, (3, 3)))\n",
        "model.add(BatchNormalization(axis=-1))\n",
        "model.add(Activation('relu'))\n",
        "model.add(MaxPooling2D(pool_size=(2,2)))\n",
        "\n",
        "model.add(Flatten())\n",
        "\n",
        "# Fully connected layer\n",
        "model.add(Dense(512))\n",
        "model.add(BatchNormalization())\n",
        "model.add(Activation('relu'))\n",
        "model.add(Dropout(0.2))\n",
        "model.add(Dense(10))\n",
        "\n",
        "model.add(Activation('softmax'))"
      ],
      "execution_count": 0,
      "outputs": []
    },
    {
      "cell_type": "code",
      "metadata": {
        "id": "TU820O-UySRc",
        "colab_type": "code",
        "colab": {}
      },
      "source": [
        "model.compile(loss='categorical_crossentropy', optimizer='adam',\\\n",
        "metrics=['accuracy'])"
      ],
      "execution_count": 0,
      "outputs": []
    },
    {
      "cell_type": "code",
      "metadata": {
        "id": "9EUWySHMzOD1",
        "colab_type": "code",
        "colab": {}
      },
      "source": [
        "gen = ImageDataGenerator(rotation_range=8, width_shift_range=0.08, shear_range=0.3,\n",
        "                         height_shift_range=0.08, zoom_range=0.08)\n",
        "\n",
        "test_gen = ImageDataGenerator()"
      ],
      "execution_count": 0,
      "outputs": []
    },
    {
      "cell_type": "code",
      "metadata": {
        "id": "GXBTWwhyVwd8",
        "colab_type": "code",
        "colab": {}
      },
      "source": [
        "train_generator = gen.flow(x_train, y_train, batch_size=64)\n",
        "test_generator = test_gen.flow(x_test, y_test, batch_size=64)"
      ],
      "execution_count": 0,
      "outputs": []
    },
    {
      "cell_type": "code",
      "metadata": {
        "id": "gFbr3zNwWH8m",
        "colab_type": "code",
        "outputId": "629840bf-e251-4447-b5cc-58115ecf8c99",
        "colab": {
          "base_uri": "https://localhost:8080/",
          "height": 1000
        }
      },
      "source": [
        "model.fit_generator(train_generator, steps_per_epoch=60000//64, epochs=50, \n",
        "                    validation_data=test_generator, validation_steps=10000//64)"
      ],
      "execution_count": 0,
      "outputs": [
        {
          "output_type": "stream",
          "text": [
            "Epoch 1/50\n",
            "937/937 [==============================] - 21s 22ms/step - loss: 0.0094 - acc: 0.9971 - val_loss: 0.0146 - val_acc: 0.9958\n",
            "Epoch 2/50\n",
            "937/937 [==============================] - 20s 22ms/step - loss: 0.0079 - acc: 0.9974 - val_loss: 0.0166 - val_acc: 0.9953\n",
            "Epoch 3/50\n",
            "937/937 [==============================] - 21s 22ms/step - loss: 0.0082 - acc: 0.9974 - val_loss: 0.0196 - val_acc: 0.9950\n",
            "Epoch 4/50\n",
            "937/937 [==============================] - 21s 22ms/step - loss: 0.0089 - acc: 0.9969 - val_loss: 0.0157 - val_acc: 0.9952\n",
            "Epoch 5/50\n",
            "937/937 [==============================] - 20s 21ms/step - loss: 0.0075 - acc: 0.9976 - val_loss: 0.0179 - val_acc: 0.9960\n",
            "Epoch 6/50\n",
            "937/937 [==============================] - 21s 22ms/step - loss: 0.0079 - acc: 0.9971 - val_loss: 0.0176 - val_acc: 0.9950\n",
            "Epoch 7/50\n",
            "937/937 [==============================] - 21s 22ms/step - loss: 0.0092 - acc: 0.9973 - val_loss: 0.0201 - val_acc: 0.9953\n",
            "Epoch 8/50\n",
            "937/937 [==============================] - 20s 22ms/step - loss: 0.0068 - acc: 0.9980 - val_loss: 0.0155 - val_acc: 0.9956\n",
            "Epoch 9/50\n",
            "937/937 [==============================] - 21s 22ms/step - loss: 0.0071 - acc: 0.9977 - val_loss: 0.0148 - val_acc: 0.9959\n",
            "Epoch 10/50\n",
            "937/937 [==============================] - 21s 22ms/step - loss: 0.0075 - acc: 0.9976 - val_loss: 0.0215 - val_acc: 0.9952\n",
            "Epoch 11/50\n",
            "937/937 [==============================] - 20s 22ms/step - loss: 0.0070 - acc: 0.9976 - val_loss: 0.0144 - val_acc: 0.9957\n",
            "Epoch 12/50\n",
            "937/937 [==============================] - 21s 22ms/step - loss: 0.0063 - acc: 0.9979 - val_loss: 0.0191 - val_acc: 0.9949\n",
            "Epoch 13/50\n",
            "937/937 [==============================] - 20s 22ms/step - loss: 0.0065 - acc: 0.9977 - val_loss: 0.0238 - val_acc: 0.9944\n",
            "Epoch 14/50\n",
            "937/937 [==============================] - 20s 21ms/step - loss: 0.0076 - acc: 0.9975 - val_loss: 0.0167 - val_acc: 0.9959\n",
            "Epoch 15/50\n",
            "937/937 [==============================] - 21s 22ms/step - loss: 0.0063 - acc: 0.9980 - val_loss: 0.0198 - val_acc: 0.9950\n",
            "Epoch 16/50\n",
            "937/937 [==============================] - 21s 22ms/step - loss: 0.0073 - acc: 0.9976 - val_loss: 0.0220 - val_acc: 0.9944\n",
            "Epoch 17/50\n",
            "937/937 [==============================] - 20s 21ms/step - loss: 0.0068 - acc: 0.9978 - val_loss: 0.0228 - val_acc: 0.9947\n",
            "Epoch 18/50\n",
            "937/937 [==============================] - 21s 22ms/step - loss: 0.0061 - acc: 0.9982 - val_loss: 0.0155 - val_acc: 0.9953\n",
            "Epoch 19/50\n",
            "937/937 [==============================] - 20s 22ms/step - loss: 0.0061 - acc: 0.9980 - val_loss: 0.0136 - val_acc: 0.9957\n",
            "Epoch 20/50\n",
            "937/937 [==============================] - 20s 21ms/step - loss: 0.0064 - acc: 0.9978 - val_loss: 0.0124 - val_acc: 0.9960\n",
            "Epoch 21/50\n",
            "937/937 [==============================] - 21s 22ms/step - loss: 0.0064 - acc: 0.9980 - val_loss: 0.0200 - val_acc: 0.9956\n",
            "Epoch 22/50\n",
            "937/937 [==============================] - 20s 22ms/step - loss: 0.0068 - acc: 0.9980 - val_loss: 0.0188 - val_acc: 0.9949\n",
            "Epoch 23/50\n",
            "937/937 [==============================] - 20s 21ms/step - loss: 0.0060 - acc: 0.9983 - val_loss: 0.0189 - val_acc: 0.9960\n",
            "Epoch 24/50\n",
            "937/937 [==============================] - 20s 22ms/step - loss: 0.0067 - acc: 0.9980 - val_loss: 0.0258 - val_acc: 0.9936\n",
            "Epoch 25/50\n",
            "937/937 [==============================] - 20s 21ms/step - loss: 0.0060 - acc: 0.9980 - val_loss: 0.0136 - val_acc: 0.9959\n",
            "Epoch 26/50\n",
            "937/937 [==============================] - 20s 21ms/step - loss: 0.0059 - acc: 0.9983 - val_loss: 0.0173 - val_acc: 0.9951\n",
            "Epoch 27/50\n",
            "937/937 [==============================] - 21s 22ms/step - loss: 0.0054 - acc: 0.9982 - val_loss: 0.0204 - val_acc: 0.9955\n",
            "Epoch 28/50\n",
            "937/937 [==============================] - 20s 21ms/step - loss: 0.0062 - acc: 0.9980 - val_loss: 0.0224 - val_acc: 0.9951\n",
            "Epoch 29/50\n",
            "937/937 [==============================] - 20s 21ms/step - loss: 0.0051 - acc: 0.9982 - val_loss: 0.0180 - val_acc: 0.9954\n",
            "Epoch 30/50\n",
            "937/937 [==============================] - 20s 22ms/step - loss: 0.0063 - acc: 0.9978 - val_loss: 0.0196 - val_acc: 0.9960\n",
            "Epoch 31/50\n",
            "937/937 [==============================] - 20s 21ms/step - loss: 0.0048 - acc: 0.9983 - val_loss: 0.0212 - val_acc: 0.9957\n",
            "Epoch 32/50\n",
            "937/937 [==============================] - 20s 21ms/step - loss: 0.0058 - acc: 0.9980 - val_loss: 0.0190 - val_acc: 0.9951\n",
            "Epoch 33/50\n",
            "937/937 [==============================] - 20s 21ms/step - loss: 0.0057 - acc: 0.9980 - val_loss: 0.0172 - val_acc: 0.9958\n",
            "Epoch 34/50\n",
            "937/937 [==============================] - 20s 21ms/step - loss: 0.0050 - acc: 0.9984 - val_loss: 0.0195 - val_acc: 0.9955\n",
            "Epoch 35/50\n",
            "937/937 [==============================] - 20s 21ms/step - loss: 0.0051 - acc: 0.9983 - val_loss: 0.0266 - val_acc: 0.9947\n",
            "Epoch 36/50\n",
            "937/937 [==============================] - 20s 22ms/step - loss: 0.0066 - acc: 0.9981 - val_loss: 0.0167 - val_acc: 0.9960\n",
            "Epoch 37/50\n",
            "937/937 [==============================] - 20s 21ms/step - loss: 0.0056 - acc: 0.9980 - val_loss: 0.0188 - val_acc: 0.9953\n",
            "Epoch 38/50\n",
            "937/937 [==============================] - 20s 21ms/step - loss: 0.0049 - acc: 0.9984 - val_loss: 0.0183 - val_acc: 0.9954\n",
            "Epoch 39/50\n",
            "937/937 [==============================] - 20s 22ms/step - loss: 0.0047 - acc: 0.9985 - val_loss: 0.0191 - val_acc: 0.9962\n",
            "Epoch 40/50\n",
            "937/937 [==============================] - 21s 22ms/step - loss: 0.0058 - acc: 0.9982 - val_loss: 0.0220 - val_acc: 0.9946\n",
            "Epoch 41/50\n",
            "937/937 [==============================] - 20s 21ms/step - loss: 0.0047 - acc: 0.9984 - val_loss: 0.0200 - val_acc: 0.9949\n",
            "Epoch 42/50\n",
            "937/937 [==============================] - 22s 23ms/step - loss: 0.0051 - acc: 0.9983 - val_loss: 0.0181 - val_acc: 0.9961\n",
            "Epoch 43/50\n",
            "937/937 [==============================] - 20s 22ms/step - loss: 0.0041 - acc: 0.9985 - val_loss: 0.0197 - val_acc: 0.9951\n",
            "Epoch 44/50\n",
            "937/937 [==============================] - 20s 22ms/step - loss: 0.0050 - acc: 0.9984 - val_loss: 0.0183 - val_acc: 0.9956\n",
            "Epoch 45/50\n",
            "937/937 [==============================] - 21s 22ms/step - loss: 0.0046 - acc: 0.9986 - val_loss: 0.0241 - val_acc: 0.9954\n",
            "Epoch 46/50\n",
            "937/937 [==============================] - 20s 22ms/step - loss: 0.0053 - acc: 0.9983 - val_loss: 0.0226 - val_acc: 0.9952\n",
            "Epoch 47/50\n",
            "937/937 [==============================] - 20s 22ms/step - loss: 0.0044 - acc: 0.9986 - val_loss: 0.0221 - val_acc: 0.9953\n",
            "Epoch 48/50\n",
            "937/937 [==============================] - 21s 23ms/step - loss: 0.0048 - acc: 0.9982 - val_loss: 0.0165 - val_acc: 0.9949\n",
            "Epoch 49/50\n",
            "937/937 [==============================] - 20s 21ms/step - loss: 0.0044 - acc: 0.9986 - val_loss: 0.0210 - val_acc: 0.9956\n",
            "Epoch 50/50\n",
            "937/937 [==============================] - 21s 22ms/step - loss: 0.0057 - acc: 0.9982 - val_loss: 0.0170 - val_acc: 0.9960\n"
          ],
          "name": "stdout"
        },
        {
          "output_type": "execute_result",
          "data": {
            "text/plain": [
              "<keras.callbacks.History at 0x7f685c934390>"
            ]
          },
          "metadata": {
            "tags": []
          },
          "execution_count": 22
        }
      ]
    },
    {
      "cell_type": "code",
      "metadata": {
        "id": "4nO4po9feO-Y",
        "colab_type": "code",
        "outputId": "48409718-4c48-4e8a-c262-6a0ced1b2ec1",
        "colab": {
          "base_uri": "https://localhost:8080/",
          "height": 51
        }
      },
      "source": [
        "loss, acc = model.evaluate(x_test, y_test)\n",
        "print('ACCURACY: ', acc)"
      ],
      "execution_count": 0,
      "outputs": [
        {
          "output_type": "stream",
          "text": [
            "10000/10000 [==============================] - 1s 72us/step\n",
            "ACCURACY:  0.9954\n"
          ],
          "name": "stdout"
        }
      ]
    },
    {
      "cell_type": "code",
      "metadata": {
        "id": "swp34srmfEbr",
        "colab_type": "code",
        "outputId": "29b15f31-a668-405f-dfe9-bc587fd9b067",
        "colab": {
          "base_uri": "https://localhost:8080/",
          "height": 231
        }
      },
      "source": [
        "num_epochs = np.arange(0, 50)\n",
        "plt.figure(dpi=200)\n",
        "plt.style.use('ggplot')\n",
        "plt.plot(num_epochs, gen.history['loss'], label='train_loss', c='red')\n",
        "plt.plot(num_epochs, gen.history['acc'], label='train_acc', c='green')\n",
        "plt.title('Training Loss and Accuracy')\n",
        "plt.xlabel('Epoch')\n",
        "plt.ylabel('Loss/Accuracy')\n",
        "plt.legend()\n",
        "plt.savefig('plot.png')"
      ],
      "execution_count": 0,
      "outputs": [
        {
          "output_type": "error",
          "ename": "NameError",
          "evalue": "ignored",
          "traceback": [
            "\u001b[0;31m---------------------------------------------------------------------------\u001b[0m",
            "\u001b[0;31mNameError\u001b[0m                                 Traceback (most recent call last)",
            "\u001b[0;32m<ipython-input-2-7190631adcf8>\u001b[0m in \u001b[0;36m<module>\u001b[0;34m()\u001b[0m\n\u001b[0;32m----> 1\u001b[0;31m \u001b[0mnum_epochs\u001b[0m \u001b[0;34m=\u001b[0m \u001b[0mnp\u001b[0m\u001b[0;34m.\u001b[0m\u001b[0marange\u001b[0m\u001b[0;34m(\u001b[0m\u001b[0;36m0\u001b[0m\u001b[0;34m,\u001b[0m \u001b[0;36m50\u001b[0m\u001b[0;34m)\u001b[0m\u001b[0;34m\u001b[0m\u001b[0;34m\u001b[0m\u001b[0m\n\u001b[0m\u001b[1;32m      2\u001b[0m \u001b[0mplt\u001b[0m\u001b[0;34m.\u001b[0m\u001b[0mfigure\u001b[0m\u001b[0;34m(\u001b[0m\u001b[0mdpi\u001b[0m\u001b[0;34m=\u001b[0m\u001b[0;36m200\u001b[0m\u001b[0;34m)\u001b[0m\u001b[0;34m\u001b[0m\u001b[0;34m\u001b[0m\u001b[0m\n\u001b[1;32m      3\u001b[0m \u001b[0mplt\u001b[0m\u001b[0;34m.\u001b[0m\u001b[0mstyle\u001b[0m\u001b[0;34m.\u001b[0m\u001b[0muse\u001b[0m\u001b[0;34m(\u001b[0m\u001b[0;34m'ggplot'\u001b[0m\u001b[0;34m)\u001b[0m\u001b[0;34m\u001b[0m\u001b[0;34m\u001b[0m\u001b[0m\n\u001b[1;32m      4\u001b[0m \u001b[0mplt\u001b[0m\u001b[0;34m.\u001b[0m\u001b[0mplot\u001b[0m\u001b[0;34m(\u001b[0m\u001b[0mnum_epochs\u001b[0m\u001b[0;34m,\u001b[0m \u001b[0mgen\u001b[0m\u001b[0;34m.\u001b[0m\u001b[0mhistory\u001b[0m\u001b[0;34m[\u001b[0m\u001b[0;34m'loss'\u001b[0m\u001b[0;34m]\u001b[0m\u001b[0;34m,\u001b[0m \u001b[0mlabel\u001b[0m\u001b[0;34m=\u001b[0m\u001b[0;34m'train_loss'\u001b[0m\u001b[0;34m,\u001b[0m \u001b[0mc\u001b[0m\u001b[0;34m=\u001b[0m\u001b[0;34m'red'\u001b[0m\u001b[0;34m)\u001b[0m\u001b[0;34m\u001b[0m\u001b[0;34m\u001b[0m\u001b[0m\n\u001b[1;32m      5\u001b[0m \u001b[0mplt\u001b[0m\u001b[0;34m.\u001b[0m\u001b[0mplot\u001b[0m\u001b[0;34m(\u001b[0m\u001b[0mnum_epochs\u001b[0m\u001b[0;34m,\u001b[0m \u001b[0mgen\u001b[0m\u001b[0;34m.\u001b[0m\u001b[0mhistory\u001b[0m\u001b[0;34m[\u001b[0m\u001b[0;34m'acc'\u001b[0m\u001b[0;34m]\u001b[0m\u001b[0;34m,\u001b[0m \u001b[0mlabel\u001b[0m\u001b[0;34m=\u001b[0m\u001b[0;34m'train_acc'\u001b[0m\u001b[0;34m,\u001b[0m \u001b[0mc\u001b[0m\u001b[0;34m=\u001b[0m\u001b[0;34m'green'\u001b[0m\u001b[0;34m)\u001b[0m\u001b[0;34m\u001b[0m\u001b[0;34m\u001b[0m\u001b[0m\n",
            "\u001b[0;31mNameError\u001b[0m: name 'np' is not defined"
          ]
        }
      ]
    }
  ]
}